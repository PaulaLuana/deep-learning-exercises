{
  "nbformat": 4,
  "nbformat_minor": 0,
  "metadata": {
    "colab": {
      "name": "projeto-cnn.ipynb",
      "provenance": [],
      "toc_visible": true,
      "mount_file_id": "1p17oCq6Uq-oYI1Q_8Uo2W5lIQN3IH5cF",
      "authorship_tag": "ABX9TyMyw7wy8OMX0UXG0Q3Ohy/S",
      "include_colab_link": true
    },
    "kernelspec": {
      "name": "python3",
      "display_name": "Python 3"
    },
    "language_info": {
      "name": "python"
    }
  },
  "cells": [
    {
      "cell_type": "markdown",
      "metadata": {
        "id": "view-in-github",
        "colab_type": "text"
      },
      "source": [
        "<a href=\"https://colab.research.google.com/github/PaulaLuana/deep-learning-exercises/blob/master/projeto_cnn.ipynb\" target=\"_parent\"><img src=\"https://colab.research.google.com/assets/colab-badge.svg\" alt=\"Open In Colab\"/></a>"
      ]
    },
    {
      "cell_type": "markdown",
      "source": [
        "# Mini-Projeto CNN-Imagens\n",
        "\n",
        "Você deverá escolher um problema de classificação de imagens ou algum outro relacionado à visão computacional (que possa ser reslvido com redes CNN convencionais). Para tal, utilize a plataforma Kaggle. Sua solução deve ser apresentada dia da entrega. Você deve submeter um jupyter notebook comentado com a descrição do problema, a descrição do dataset, e a solução. Entrega 11/01/21.\n",
        "\n",
        "* Divida os dados em treino, validação e teste.\n",
        "* Escolha duas arquiteturas de redes CNNs pré-treinadas\n",
        "* Faça o ajuste das redes pré-treinadas usando o conjunto de dados de treino com e sem aumento de dados de duas formas:\n",
        "1. Congelando as camadas da CNN pre-treinada e ajustando apenas a camada do classificador\n",
        "2. Ajustando também as camadas da CNN pre-treinada\n",
        "* Compare os resultados de cada modelo com e sem \n",
        "1. Gráficos de acurácia e loss do treinamento e da validação\n",
        "2. Acurácia no conjunto de teste"
      ],
      "metadata": {
        "id": "omYRO6Ck93tR"
      }
    },
    {
      "cell_type": "markdown",
      "source": [
        "## Detecção de máscara em imagens\n",
        "**Problema:** Criar um algoritmo que possa detectar diretamente se uma pessoa está usando uma máscara facial ou não.<br>\n",
        "**Dataset do kaggle:** [Face Mask Detection ~12K Images Dataset](https://www.kaggle.com/ashishjangra27/face-mask-12k-images-dataset)<br>\n",
        "O daset original contém 5000 imagens para treino de cada categoria, 1000 imagens de teste de cada categoria e 400 imagens para validação de cada categoria. Pensando no quão custoso já é trabalhar com poucas imagens, nesse trabalho usaremos 1000 imagens de treino de cada categoria."
      ],
      "metadata": {
        "id": "rb9RvCWy-lM_"
      }
    },
    {
      "cell_type": "code",
      "source": [
        "import os\n",
        "import keras\n",
        "import numpy as np\n",
        "import matplotlib.pyplot as plt\n",
        "from google.colab import drive\n",
        "from tensorflow import keras\n",
        "from keras.applications.vgg16 import VGG16\n",
        "from keras.applications.xception import Xception\n",
        "from tensorflow.keras import layers\n",
        "from tensorflow.keras.preprocessing import image_dataset_from_directory"
      ],
      "metadata": {
        "id": "iciN8tyVYJ63"
      },
      "execution_count": null,
      "outputs": []
    },
    {
      "cell_type": "code",
      "source": [
        "drive.mount('/drive')"
      ],
      "metadata": {
        "colab": {
          "base_uri": "https://localhost:8080/"
        },
        "id": "LsGq19PGYRpt",
        "outputId": "c1d65f3f-6715-4c26-8561-2ffe5c28b834"
      },
      "execution_count": null,
      "outputs": [
        {
          "output_type": "stream",
          "name": "stdout",
          "text": [
            "Mounted at /drive\n"
          ]
        }
      ]
    },
    {
      "cell_type": "markdown",
      "source": [
        "**Divida os dados em treino, validação e teste.**"
      ],
      "metadata": {
        "id": "xJXaXvogoeLB"
      }
    },
    {
      "cell_type": "code",
      "source": [
        "import os, shutil, pathlib\n",
        "original_dir = pathlib.Path(\"drive/MyDrive/deep-learning/projeto1_cnn/train\")\n",
        "new_base_dir = pathlib.Path(\"mask_detection\")\n",
        "def make_subset(subset_name, start_index, end_index):\n",
        "  for category in (\"with_mask\", \"without_mask\"):\n",
        "    dir = new_base_dir / subset_name / category \n",
        "    os.makedirs(dir, exist_ok=True)\n",
        "    fnames = [f\"{category}.{i}.png\" for i in range(start_index, end_index)]\n",
        "    for fname in fnames:\n",
        "      shutil.copyfile(src=original_dir / fname, dst=dir / fname)\n",
        "make_subset(\"train\", start_index=0, end_index=500)\n",
        "make_subset(\"validation\", start_index=500, end_index=600)\n",
        "make_subset(\"test\", start_index=600, end_index=1000)"
      ],
      "metadata": {
        "id": "4OmDuS97Wa_Q"
      },
      "execution_count": null,
      "outputs": []
    },
    {
      "cell_type": "markdown",
      "source": [
        "Gerador"
      ],
      "metadata": {
        "id": "aCYY-lKwo2HB"
      }
    },
    {
      "cell_type": "code",
      "source": [
        "train_dataset = image_dataset_from_directory(\n",
        "  new_base_dir / \"train\",\n",
        "  image_size=(180, 180),\n",
        "  batch_size=64)\n",
        "validation_dataset = image_dataset_from_directory(\n",
        "  new_base_dir / \"validation\",\n",
        "  image_size=(180, 180),\n",
        "  batch_size=64)\n",
        "test_dataset = image_dataset_from_directory(\n",
        "  new_base_dir / \"test\",\n",
        "  image_size=(180, 180),\n",
        "  batch_size=64)"
      ],
      "metadata": {
        "colab": {
          "base_uri": "https://localhost:8080/"
        },
        "id": "XTnSLH0to5Qe",
        "outputId": "c7b5f1c6-59bb-4236-8a11-689c44cba779"
      },
      "execution_count": null,
      "outputs": [
        {
          "output_type": "stream",
          "name": "stdout",
          "text": [
            "Found 1000 files belonging to 2 classes.\n",
            "Found 200 files belonging to 2 classes.\n",
            "Found 800 files belonging to 2 classes.\n"
          ]
        }
      ]
    },
    {
      "cell_type": "markdown",
      "source": [
        "**Escolha duas arquiteturas de redes CNNs pré-treinadas**"
      ],
      "metadata": {
        "id": "S5Xm0NvbokkS"
      }
    },
    {
      "cell_type": "markdown",
      "source": [
        "### Arquitetura Vgg16"
      ],
      "metadata": {
        "id": "pw4qsoUOV8zL"
      }
    },
    {
      "cell_type": "markdown",
      "source": [
        " Faça o ajuste das redes pré-treinadas usando o conjunto de dados de treino com e sem aumento de dados de duas formas:\n",
        "1. Congelando as camadas da CNN pre-treinada e ajustando apenas a camada do classificador\n",
        "2. Ajustando também as camadas da CNN pre-treinada"
      ],
      "metadata": {
        "id": "NvVT_5dt0RSw"
      }
    },
    {
      "cell_type": "markdown",
      "source": [
        "#### Modelo 1\n",
        "**Com aumento de dados**, congelando as camadas da CNN pre-treinada e ajustando apenas a camada do classificador"
      ],
      "metadata": {
        "id": "LBh23PsL_k4y"
      }
    },
    {
      "cell_type": "code",
      "source": [
        "conv_base = VGG16(\n",
        "    weights=\"imagenet\",\n",
        "    include_top=False)"
      ],
      "metadata": {
        "id": "IWFvgEn59Jrz"
      },
      "execution_count": null,
      "outputs": []
    },
    {
      "cell_type": "code",
      "source": [
        "conv_base.trainable = False #congelando"
      ],
      "metadata": {
        "id": "-ZEi-B220cHD"
      },
      "execution_count": null,
      "outputs": []
    },
    {
      "cell_type": "code",
      "source": [
        "data_augmentation = keras.Sequential(\n",
        "  [\n",
        "  layers.experimental.preprocessing.RandomFlip(\"horizontal\"),\n",
        "  layers.experimental.preprocessing.RandomRotation(0.1),\n",
        "  layers.experimental.preprocessing.RandomZoom(0.2),\n",
        "  ]\n",
        "  )"
      ],
      "metadata": {
        "id": "HzI47sj81buY"
      },
      "execution_count": null,
      "outputs": []
    },
    {
      "cell_type": "code",
      "source": [
        "inputs = keras.Input(shape=(180,180,3))\n",
        "x = data_augmentation(inputs)\n",
        "x = conv_base(x)\n",
        "x = layers.Flatten()(x) #Desmembra a matriz em vetores\n",
        "x = layers.Dense(256)(x)\n",
        "x = layers.Dropout(0.5)(x) #Diminui o overfitting apagando alguns pesos\n",
        "outputs = layers.Dense(1, activation=\"sigmoid\")(x)"
      ],
      "metadata": {
        "id": "rD6Z68Mx2Jc8"
      },
      "execution_count": null,
      "outputs": []
    },
    {
      "cell_type": "code",
      "source": [
        "model1 = keras.Model(inputs, outputs)\n",
        "model1.compile(loss=\"binary_crossentropy\",\n",
        "              optimizer=\"rmsprop\",\n",
        "              metrics=[\"accuracy\"])\n",
        "callbacks = [\n",
        "             keras.callbacks.ModelCheckpoint(\n",
        "                 filepath=\"feature_extraction.keras\",\n",
        "                 save_best_only=True,\n",
        "                 monitor=\"val_loss\"\n",
        "                 )\n",
        "]"
      ],
      "metadata": {
        "id": "PawJd8Qy6cZs"
      },
      "execution_count": null,
      "outputs": []
    },
    {
      "cell_type": "code",
      "source": [
        "history = model1.fit(train_dataset, epochs=5, validation_data=(validation_dataset), callbacks=callbacks)"
      ],
      "metadata": {
        "colab": {
          "base_uri": "https://localhost:8080/"
        },
        "id": "PK94ZL8-6nO6",
        "outputId": "851d5d05-7780-43a4-9100-530f563b73bd"
      },
      "execution_count": null,
      "outputs": [
        {
          "output_type": "stream",
          "name": "stdout",
          "text": [
            "Epoch 1/5\n",
            "16/16 [==============================] - 395s 25s/step - loss: 15.7027 - accuracy: 0.8790 - val_loss: 0.0000e+00 - val_accuracy: 1.0000\n",
            "Epoch 2/5\n",
            "16/16 [==============================] - 395s 25s/step - loss: 2.4871 - accuracy: 0.9760 - val_loss: 0.2449 - val_accuracy: 0.9950\n",
            "Epoch 3/5\n",
            "16/16 [==============================] - 395s 25s/step - loss: 1.0167 - accuracy: 0.9900 - val_loss: 2.0392 - val_accuracy: 0.9850\n",
            "Epoch 4/5\n",
            "16/16 [==============================] - 392s 25s/step - loss: 1.7216 - accuracy: 0.9780 - val_loss: 0.9212 - val_accuracy: 0.9950\n",
            "Epoch 5/5\n",
            "16/16 [==============================] - 397s 25s/step - loss: 1.3093 - accuracy: 0.9850 - val_loss: 2.8466 - val_accuracy: 0.9800\n"
          ]
        }
      ]
    },
    {
      "cell_type": "code",
      "source": [
        "test_loss, test_acc = model1.evaluate(test_dataset)"
      ],
      "metadata": {
        "colab": {
          "base_uri": "https://localhost:8080/"
        },
        "id": "J5R-gzCtSrGe",
        "outputId": "a680196e-4876-4108-bd57-54158b21ce30"
      },
      "execution_count": null,
      "outputs": [
        {
          "output_type": "stream",
          "name": "stdout",
          "text": [
            "13/13 [==============================] - 261s 20s/step - loss: 1.6509 - accuracy: 0.9700\n"
          ]
        }
      ]
    },
    {
      "cell_type": "code",
      "source": [
        "accs = []\n",
        "accs.append(test_acc)\n",
        "print(\"Acurácia do conjunto de teste - Modelo 1(Aumento de dados):\", test_acc)"
      ],
      "metadata": {
        "colab": {
          "base_uri": "https://localhost:8080/"
        },
        "id": "dR6cwiqBS-kJ",
        "outputId": "578965b9-3189-4c8e-b673-a785667c6354"
      },
      "execution_count": null,
      "outputs": [
        {
          "output_type": "stream",
          "name": "stdout",
          "text": [
            "Acurácia do conjunto de teste - Modelo 1(Vgg16 - aumento de dados): 0.9700000286102295\n"
          ]
        }
      ]
    },
    {
      "cell_type": "markdown",
      "source": [
        "#### Modelo 2\n",
        "Ajuste fino do modelo pré treinado."
      ],
      "metadata": {
        "id": "7M1Oii5zAGLR"
      }
    },
    {
      "cell_type": "code",
      "source": [
        "conv_base = VGG16(\n",
        "    weights=\"imagenet\",\n",
        "    include_top=False)\n",
        "conv_base.trainable = True\n",
        "for layer in conv_base.layers[:-4]:\n",
        "  layer.trainable = False"
      ],
      "metadata": {
        "id": "gaDkDVJICzxt"
      },
      "execution_count": null,
      "outputs": []
    },
    {
      "cell_type": "code",
      "source": [
        "inputs = keras.Input(shape=(180,180,3))\n",
        "x = conv_base(inputs)\n",
        "x = layers.Flatten()(x) #Desmembra a matriz em vetores\n",
        "x = layers.Dense(256)(x)\n",
        "x = layers.Dropout(0.5)(x) #Diminui o overfitting apagando alguns pesos\n",
        "outputs = layers.Dense(1, activation=\"sigmoid\")(x)"
      ],
      "metadata": {
        "id": "WflX-J-eE1Lf"
      },
      "execution_count": null,
      "outputs": []
    },
    {
      "cell_type": "code",
      "source": [
        "model2 = keras.Model(inputs, outputs)\n",
        "model2.compile(loss=\"binary_crossentropy\",\n",
        "              optimizer=\"rmsprop\",\n",
        "              metrics=[\"accuracy\"])\n",
        "callbacks = [\n",
        "             keras.callbacks.ModelCheckpoint(\n",
        "                 filepath=\"feature_extraction.keras\",\n",
        "                 save_best_only=True,\n",
        "                 monitor=\"val_loss\"\n",
        "                 )\n",
        "]"
      ],
      "metadata": {
        "id": "BV47J99aFdUm"
      },
      "execution_count": null,
      "outputs": []
    },
    {
      "cell_type": "code",
      "source": [
        "history2 = model2.fit(train_dataset, epochs=5, validation_data=(validation_dataset), callbacks=callbacks)"
      ],
      "metadata": {
        "colab": {
          "base_uri": "https://localhost:8080/"
        },
        "id": "pmYJik3vFjcU",
        "outputId": "9d8189d2-9da2-4dd2-8486-72f011d3a6f5"
      },
      "execution_count": null,
      "outputs": [
        {
          "output_type": "stream",
          "name": "stdout",
          "text": [
            "Epoch 1/5\n",
            "16/16 [==============================] - 459s 29s/step - loss: 18069.5527 - accuracy: 0.5230 - val_loss: 2.7440 - val_accuracy: 0.5350\n",
            "Epoch 2/5\n",
            "16/16 [==============================] - 447s 28s/step - loss: 0.8416 - accuracy: 0.5060 - val_loss: 111.0834 - val_accuracy: 0.5000\n",
            "Epoch 3/5\n",
            "16/16 [==============================] - 444s 28s/step - loss: 10.7543 - accuracy: 0.4920 - val_loss: 0.6957 - val_accuracy: 0.5000\n",
            "Epoch 4/5\n",
            "16/16 [==============================] - 448s 28s/step - loss: 0.6942 - accuracy: 0.5010 - val_loss: 0.6941 - val_accuracy: 0.5000\n",
            "Epoch 5/5\n",
            "16/16 [==============================] - 450s 28s/step - loss: 0.6932 - accuracy: 0.5010 - val_loss: 0.6933 - val_accuracy: 0.5000\n"
          ]
        }
      ]
    },
    {
      "cell_type": "code",
      "source": [
        "test_loss, test_acc = model2.evaluate(test_dataset)"
      ],
      "metadata": {
        "colab": {
          "base_uri": "https://localhost:8080/"
        },
        "id": "8OOdmBt6Th7C",
        "outputId": "7eee9592-fde6-4875-b694-3e45c8651219"
      },
      "execution_count": null,
      "outputs": [
        {
          "output_type": "stream",
          "name": "stdout",
          "text": [
            "13/13 [==============================] - 262s 20s/step - loss: 0.7049 - accuracy: 0.5000\n"
          ]
        }
      ]
    },
    {
      "cell_type": "code",
      "source": [
        "accs.append(test_acc)\n",
        "print(\"Acurácia do conjunto de teste - Modelo 2(Ajuste fino):\", test_acc)"
      ],
      "metadata": {
        "colab": {
          "base_uri": "https://localhost:8080/"
        },
        "id": "Y7_pk3LtTmKH",
        "outputId": "5ed00c87-1f34-44fd-b49a-5d3d4ef57e25"
      },
      "execution_count": null,
      "outputs": [
        {
          "output_type": "stream",
          "name": "stdout",
          "text": [
            "Acurácia do conjunto de teste - Modelo 2(Ajuste fino): 0.5\n"
          ]
        }
      ]
    },
    {
      "cell_type": "markdown",
      "source": [
        "### Arquitetura Xception"
      ],
      "metadata": {
        "id": "ukzbXPP5U4J3"
      }
    },
    {
      "cell_type": "markdown",
      "source": [
        "A **rede Inception** foi desenvolvida de forma a permitir que múltiplos filtros convoluti-\n",
        "vos de tamanho diferente possam operar numa mesma profundidade, como se pertencessem\n",
        "a uma única camada. O módulo Inception tradicional realiza três operações de convolução\n",
        "diferentes, com filtros 1x1, 3x3 e 5x5, e uma operação max pooling numa mesma entrada\n",
        "da rede. <br>\n",
        "\n",
        "Na **rede Xception**, o bloco básico da rede Inception é modificado, de forma a separar\n",
        "completamentamente o mapeamento de informações entre os canais da entrada, feito por\n",
        "operações de convolução 1x1, da posterior correlação espacial, realizada por operações\n",
        "de convolução separadas em cada um dos canais. **A rede é composta por camadas de\n",
        "convolução separadas em profundidade. Essa operação de convolução separada consiste\n",
        "em dividir uma convolução tradicional em duas operações distintas.** A primeira aplica um\n",
        "filtro para cada canal da imagem e a segunda operação aplica uma outro filtro 1x1 entre\n",
        "todos os canais da imagem de saída da convolução anterior.\n",
        "\n",
        "**O uso de convoluções separadas reduz o número de parâmetros de aprendizado da\n",
        "rede sem reduzir a sua capacidade.** Por essa razão, a rede Xception mesmo contendo um\n",
        "número semelhante de parâmetros que outras redes (cerca de 20 milhões), como a variação\n",
        "V3 Inception, apresenta um resultado melhor\n",
        "\n",
        "MOREIRA, Pedro Henrique de Oliveira; ROCHA, Victor Hugo Nascimento; CABRAL, Eduardo Lobo Lustosa. Rede neural convolucional e recursiva para a estimação de profundidade de objetos em vídeos. [S.l: s.n.], 2018."
      ],
      "metadata": {
        "id": "iCn2A1nWCPA0"
      }
    },
    {
      "cell_type": "markdown",
      "source": [
        "#### Modelo 1\n",
        "**Com aumento de dados**, congelando as camadas da CNN pre-treinada e ajustando apenas a camada do classificador"
      ],
      "metadata": {
        "id": "GheDS6g0VP3q"
      }
    },
    {
      "cell_type": "code",
      "source": [
        "conv_base = Xception(\n",
        "    weights=\"imagenet\",\n",
        "    include_top=False)\n",
        "conv_base.trainable = False #congelando"
      ],
      "metadata": {
        "colab": {
          "base_uri": "https://localhost:8080/"
        },
        "id": "uX52Ss0fVFlN",
        "outputId": "de06b4ac-9927-4444-8f09-892c4ce431ab"
      },
      "execution_count": null,
      "outputs": [
        {
          "output_type": "stream",
          "name": "stdout",
          "text": [
            "Downloading data from https://storage.googleapis.com/tensorflow/keras-applications/xception/xception_weights_tf_dim_ordering_tf_kernels_notop.h5\n",
            "83689472/83683744 [==============================] - 0s 0us/step\n",
            "83697664/83683744 [==============================] - 0s 0us/step\n"
          ]
        }
      ]
    },
    {
      "cell_type": "code",
      "source": [
        "data_augmentation = keras.Sequential(\n",
        "  [\n",
        "  layers.experimental.preprocessing.RandomFlip(\"horizontal\"),\n",
        "  layers.experimental.preprocessing.RandomRotation(0.1),\n",
        "  layers.experimental.preprocessing.RandomZoom(0.2),\n",
        "  ]\n",
        "  )"
      ],
      "metadata": {
        "id": "J_BX8h8YVXX7"
      },
      "execution_count": null,
      "outputs": []
    },
    {
      "cell_type": "code",
      "source": [
        "inputs = keras.Input(shape=(180,180,3))\n",
        "x = data_augmentation(inputs)\n",
        "x = conv_base(x)\n",
        "x = layers.Flatten()(x) #Desmembra a matriz em vetores\n",
        "x = layers.Dense(256)(x)\n",
        "x = layers.Dropout(0.5)(x) #Diminui o overfitting apagando alguns pesos\n",
        "outputs = layers.Dense(1, activation=\"sigmoid\")(x)"
      ],
      "metadata": {
        "id": "1qdSbqhZVa3j"
      },
      "execution_count": null,
      "outputs": []
    },
    {
      "cell_type": "code",
      "source": [
        "model3 = keras.Model(inputs, outputs)\n",
        "model3.compile(loss=\"binary_crossentropy\",\n",
        "              optimizer=\"rmsprop\",\n",
        "              metrics=[\"accuracy\"])\n",
        "callbacks = [\n",
        "             keras.callbacks.ModelCheckpoint(\n",
        "                 filepath=\"feature_extraction.keras\",\n",
        "                 save_best_only=True,\n",
        "                 monitor=\"val_loss\"\n",
        "                 )\n",
        "]"
      ],
      "metadata": {
        "id": "WXImQoiOVft8"
      },
      "execution_count": null,
      "outputs": []
    },
    {
      "cell_type": "code",
      "source": [
        "history3 = model3.fit(train_dataset, epochs=5, validation_data=(validation_dataset), callbacks=callbacks)"
      ],
      "metadata": {
        "colab": {
          "base_uri": "https://localhost:8080/"
        },
        "id": "gWCPhUt0VnX8",
        "outputId": "eda485c3-a6f0-4765-d82c-424d676eee5d"
      },
      "execution_count": null,
      "outputs": [
        {
          "output_type": "stream",
          "name": "stdout",
          "text": [
            "Epoch 1/5\n",
            "16/16 [==============================] - ETA: 0s - loss: 1135.3669 - accuracy: 0.6580"
          ]
        },
        {
          "output_type": "stream",
          "name": "stderr",
          "text": [
            "/usr/local/lib/python3.7/dist-packages/keras/engine/functional.py:1410: CustomMaskWarning: Custom mask layers require a config and must override get_config. When loading, the custom mask layer must be passed to the custom_objects argument.\n",
            "  layer_config = serialize_layer_fn(layer)\n"
          ]
        },
        {
          "output_type": "stream",
          "name": "stdout",
          "text": [
            "\b\b\b\b\b\b\b\b\b\b\b\b\b\b\b\b\b\b\b\b\b\b\b\b\b\b\b\b\b\b\b\b\b\b\b\b\b\b\b\b\b\b\b\b\b\b\b\b\b\b\b\b\b\b\b\b\b\b\b\b\b\b\b\b\b\b\b\b\b\b\b\b\b\b\b\b\b\b\b\b\b\b\b\b\b\r16/16 [==============================] - 149s 9s/step - loss: 1135.3669 - accuracy: 0.6580 - val_loss: 159.4573 - val_accuracy: 0.8750\n",
            "Epoch 2/5\n",
            "16/16 [==============================] - 151s 9s/step - loss: 720.3317 - accuracy: 0.7260 - val_loss: 369.2168 - val_accuracy: 0.7850\n",
            "Epoch 3/5\n",
            "16/16 [==============================] - 144s 9s/step - loss: 459.3805 - accuracy: 0.7770 - val_loss: 1137.3540 - val_accuracy: 0.6100\n",
            "Epoch 4/5\n",
            "16/16 [==============================] - 144s 9s/step - loss: 411.6057 - accuracy: 0.7880 - val_loss: 137.6227 - val_accuracy: 0.8900\n",
            "Epoch 5/5\n",
            "16/16 [==============================] - 144s 9s/step - loss: 249.2800 - accuracy: 0.8360 - val_loss: 95.0615 - val_accuracy: 0.9300\n"
          ]
        }
      ]
    },
    {
      "cell_type": "code",
      "source": [
        "test_loss, test_acc = model3.evaluate(test_dataset)"
      ],
      "metadata": {
        "colab": {
          "base_uri": "https://localhost:8080/"
        },
        "id": "z_mBoyDTVvWb",
        "outputId": "e1d13ade-e18f-4d18-c118-e5ccde7a4dbf"
      },
      "execution_count": null,
      "outputs": [
        {
          "output_type": "stream",
          "name": "stdout",
          "text": [
            "13/13 [==============================] - 91s 7s/step - loss: 136.6715 - accuracy: 0.8888\n"
          ]
        }
      ]
    },
    {
      "cell_type": "code",
      "source": [
        "accs.append(test_acc)\n",
        "print(\"Acurácia do conjunto de teste - Modelo 1(Aumento de dados):\", test_acc)"
      ],
      "metadata": {
        "colab": {
          "base_uri": "https://localhost:8080/"
        },
        "id": "5SGKCfVaV2zH",
        "outputId": "49f930e9-3fb3-439c-f653-04391b719a10"
      },
      "execution_count": null,
      "outputs": [
        {
          "output_type": "stream",
          "name": "stdout",
          "text": [
            "Acurácia do conjunto de teste - Modelo 1(Aumento de dados): 0.8887500166893005\n"
          ]
        }
      ]
    },
    {
      "cell_type": "markdown",
      "source": [
        "#### Modelo 2\n",
        "Ajuste fino do modelo pré treinado."
      ],
      "metadata": {
        "id": "3mVnxPv-XJFK"
      }
    },
    {
      "cell_type": "code",
      "source": [
        "conv_base = Xception(\n",
        "    weights=\"imagenet\",\n",
        "    include_top=False)\n",
        "conv_base.trainable = True\n",
        "for layer in conv_base.layers[:-4]:\n",
        "  layer.trainable = False"
      ],
      "metadata": {
        "id": "rkmLeXHCXMxK"
      },
      "execution_count": null,
      "outputs": []
    },
    {
      "cell_type": "code",
      "source": [
        "inputs = keras.Input(shape=(180,180,3))\n",
        "x = conv_base(inputs)\n",
        "x = layers.Flatten()(x) #Desmembra a matriz em vetores\n",
        "x = layers.Dense(256)(x)\n",
        "x = layers.Dropout(0.5)(x) #Diminui o overfitting apagando alguns pesos\n",
        "outputs = layers.Dense(1, activation=\"sigmoid\")(x)"
      ],
      "metadata": {
        "id": "B9LABVLJXXYp"
      },
      "execution_count": null,
      "outputs": []
    },
    {
      "cell_type": "code",
      "source": [
        "model4 = keras.Model(inputs, outputs)\n",
        "model4.compile(loss=\"binary_crossentropy\",\n",
        "              optimizer=\"rmsprop\",\n",
        "              metrics=[\"accuracy\"])\n",
        "callbacks = [\n",
        "             keras.callbacks.ModelCheckpoint(\n",
        "                 filepath=\"feature_extraction.keras\",\n",
        "                 save_best_only=True,\n",
        "                 monitor=\"val_loss\"\n",
        "                 )\n",
        "]"
      ],
      "metadata": {
        "id": "VUfMK6eFXXwb"
      },
      "execution_count": null,
      "outputs": []
    },
    {
      "cell_type": "code",
      "source": [
        "history4 = model4.fit(train_dataset, epochs=5, validation_data=(validation_dataset), callbacks=callbacks)"
      ],
      "metadata": {
        "colab": {
          "base_uri": "https://localhost:8080/"
        },
        "id": "Ll8PNOLHXckL",
        "outputId": "fdf064b1-2655-4e46-faca-f2b7c9120523"
      },
      "execution_count": null,
      "outputs": [
        {
          "output_type": "stream",
          "name": "stdout",
          "text": [
            "Epoch 1/5\n",
            "16/16 [==============================] - ETA: 0s - loss: 21.8478 - accuracy: 0.7270"
          ]
        },
        {
          "output_type": "stream",
          "name": "stderr",
          "text": [
            "/usr/local/lib/python3.7/dist-packages/keras/engine/functional.py:1410: CustomMaskWarning: Custom mask layers require a config and must override get_config. When loading, the custom mask layer must be passed to the custom_objects argument.\n",
            "  layer_config = serialize_layer_fn(layer)\n"
          ]
        },
        {
          "output_type": "stream",
          "name": "stdout",
          "text": [
            "\b\b\b\b\b\b\b\b\b\b\b\b\b\b\b\b\b\b\b\b\b\b\b\b\b\b\b\b\b\b\b\b\b\b\b\b\b\b\b\b\b\b\b\b\b\b\b\b\b\b\b\b\b\b\b\b\b\b\b\b\b\b\b\b\b\b\b\b\b\b\b\b\b\b\b\b\b\b\b\b\b\b\b\r16/16 [==============================] - 163s 10s/step - loss: 21.8478 - accuracy: 0.7270 - val_loss: 6.5505 - val_accuracy: 0.8650\n",
            "Epoch 2/5\n",
            "16/16 [==============================] - 157s 10s/step - loss: 3.0747 - accuracy: 0.8690 - val_loss: 8.0519 - val_accuracy: 0.7450\n",
            "Epoch 3/5\n",
            "16/16 [==============================] - 158s 10s/step - loss: 4.1349 - accuracy: 0.8810 - val_loss: 2.8958 - val_accuracy: 0.9050\n",
            "Epoch 4/5\n",
            "16/16 [==============================] - 158s 10s/step - loss: 3.2586 - accuracy: 0.8950 - val_loss: 5.1279 - val_accuracy: 0.7650\n",
            "Epoch 5/5\n",
            "16/16 [==============================] - 157s 10s/step - loss: 0.8080 - accuracy: 0.9540 - val_loss: 3.0033 - val_accuracy: 0.8650\n"
          ]
        }
      ]
    },
    {
      "cell_type": "code",
      "source": [
        "test_loss, test_acc = model4.evaluate(test_dataset)"
      ],
      "metadata": {
        "colab": {
          "base_uri": "https://localhost:8080/"
        },
        "id": "rlWFETozXnzx",
        "outputId": "bef3c65e-4733-4121-f668-dd637f3f78e8"
      },
      "execution_count": null,
      "outputs": [
        {
          "output_type": "stream",
          "name": "stdout",
          "text": [
            "13/13 [==============================] - 91s 7s/step - loss: 4.3976 - accuracy: 0.8625\n"
          ]
        }
      ]
    },
    {
      "cell_type": "code",
      "source": [
        "accs.append(test_acc)\n",
        "print(\"Acurácia do conjunto de teste - Modelo 2(Ajuste fino):\", test_acc)"
      ],
      "metadata": {
        "colab": {
          "base_uri": "https://localhost:8080/"
        },
        "id": "qs6DTPnfXsx8",
        "outputId": "adff4083-9446-4f73-c2fa-1eef52a747af"
      },
      "execution_count": null,
      "outputs": [
        {
          "output_type": "stream",
          "name": "stdout",
          "text": [
            "Acurácia do conjunto de teste - Modelo 2(Ajuste fino): 0.862500011920929\n"
          ]
        }
      ]
    },
    {
      "cell_type": "markdown",
      "source": [
        "### Comparação de resultados"
      ],
      "metadata": {
        "id": "9CIpU7VWXyHg"
      }
    },
    {
      "cell_type": "markdown",
      "source": [
        "#### Gráficos de acurácia e loss do treinamento e da validação"
      ],
      "metadata": {
        "id": "s8G37gCrZ-Xe"
      }
    },
    {
      "cell_type": "code",
      "source": [
        "accuracy = history.history[\"accuracy\"]\n",
        "val_accuracy = history.history[\"val_accuracy\"]\n",
        "loss = history.history[\"loss\"]\n",
        "val_loss = history.history[\"val_loss\"]"
      ],
      "metadata": {
        "id": "i7EFaA9pYHAK"
      },
      "execution_count": null,
      "outputs": []
    },
    {
      "cell_type": "code",
      "source": [
        "epochs = range(1, len(accuracy) + 1)\n",
        "plt.plot(epochs, accuracy, \"bo\", label=\"Training accuracy\")\n",
        "plt.plot(epochs, val_accuracy, \"b\", label=\"Validation accuracy\")\n",
        "plt.title(\"Training and validation accuracy\")\n",
        "plt.legend()\n",
        "plt.figure()\n",
        "plt.plot(epochs, loss, \"bo\", label=\"Training loss\")\n",
        "plt.plot(epochs, val_loss, \"b\", label=\"Validation loss\")\n",
        "plt.title(\"Training and validation loss\")\n",
        "plt.legend()\n",
        "plt.show()"
      ],
      "metadata": {
        "colab": {
          "base_uri": "https://localhost:8080/",
          "height": 545
        },
        "id": "xaiiOzdnYASn",
        "outputId": "dee0600f-ce0d-4130-9273-8428c30fff6c"
      },
      "execution_count": null,
      "outputs": [
        {
          "output_type": "display_data",
          "data": {
            "image/png": "[encoded data removed]",
            "text/plain": [
              "<Figure size 432x288 with 1 Axes>"
            ]
          },
          "metadata": {
            "needs_background": "light"
          }
        },
        {
          "output_type": "display_data",
          "data": {
            "image/png": "[encoded data removed]",
            "text/plain": [
              "<Figure size 432x288 with 1 Axes>"
            ]
          },
          "metadata": {
            "needs_background": "light"
          }
        }
      ]
    },
    {
      "cell_type": "code",
      "source": [
        "accuracy2 = history2.history[\"accuracy\"]\n",
        "val_accuracy2 = history2.history[\"val_accuracy\"]\n",
        "loss2 = history2.history[\"loss\"]\n",
        "val_loss2 = history2.history[\"val_loss\"]"
      ],
      "metadata": {
        "id": "TlKIfa_rYkdA"
      },
      "execution_count": null,
      "outputs": []
    },
    {
      "cell_type": "code",
      "source": [
        "plt.plot(epochs, accuracy2, \"bo\", label=\"Training accuracy\")\n",
        "plt.plot(epochs, val_accuracy2, \"b\", label=\"Validation accuracy\")\n",
        "plt.title(\"Training and validation accuracy\")\n",
        "plt.legend()\n",
        "plt.figure()\n",
        "plt.plot(epochs, loss2, \"bo\", label=\"Training loss\")\n",
        "plt.plot(epochs, val_loss2, \"b\", label=\"Validation loss\")\n",
        "plt.title(\"Training and validation loss\")\n",
        "plt.legend()\n",
        "plt.show()"
      ],
      "metadata": {
        "colab": {
          "base_uri": "https://localhost:8080/",
          "height": 545
        },
        "id": "Le7TAQXSYiRr",
        "outputId": "2294bcea-0f49-43d3-d486-6342e9b70857"
      },
      "execution_count": null,
      "outputs": [
        {
          "output_type": "display_data",
          "data": {
            "image/png": "[encoded data removed]",
            "text/plain": [
              "<Figure size 432x288 with 1 Axes>"
            ]
          },
          "metadata": {
            "needs_background": "light"
          }
        },
        {
          "output_type": "display_data",
          "data": {
            "image/png": "[encoded data removed]",
            "text/plain": [
              "<Figure size 432x288 with 1 Axes>"
            ]
          },
          "metadata": {
            "needs_background": "light"
          }
        }
      ]
    },
    {
      "cell_type": "code",
      "source": [
        "accuracy3 = history3.history[\"accuracy\"]\n",
        "val_accuracy3 = history3.history[\"val_accuracy\"]\n",
        "loss3 = history3.history[\"loss\"]\n",
        "val_loss3 = history3.history[\"val_loss\"]"
      ],
      "metadata": {
        "id": "9Hq9QkSsZSJK"
      },
      "execution_count": null,
      "outputs": []
    },
    {
      "cell_type": "code",
      "source": [
        "plt.plot(epochs, accuracy3, \"bo\", label=\"Training accuracy\")\n",
        "plt.plot(epochs, val_accuracy3, \"b\", label=\"Validation accuracy\")\n",
        "plt.title(\"Training and validation accuracy\")\n",
        "plt.legend()\n",
        "plt.figure()\n",
        "plt.plot(epochs, loss3, \"bo\", label=\"Training loss\")\n",
        "plt.plot(epochs, val_loss3, \"b\", label=\"Validation loss\")\n",
        "plt.title(\"Training and validation loss\")\n",
        "plt.legend()\n",
        "plt.show()"
      ],
      "metadata": {
        "colab": {
          "base_uri": "https://localhost:8080/",
          "height": 545
        },
        "id": "JttkoatYZcQ0",
        "outputId": "a95a4b84-ce5e-4d9a-c8eb-e6d56ff99d44"
      },
      "execution_count": null,
      "outputs": [
        {
          "output_type": "display_data",
          "data": {
            "image/png": "[encoded data removed]",
            "text/plain": [
              "<Figure size 432x288 with 1 Axes>"
            ]
          },
          "metadata": {
            "needs_background": "light"
          }
        },
        {
          "output_type": "display_data",
          "data": {
            "image/png": "[encoded data removed]",
            "text/plain": [
              "<Figure size 432x288 with 1 Axes>"
            ]
          },
          "metadata": {
            "needs_background": "light"
          }
        }
      ]
    },
    {
      "cell_type": "code",
      "source": [
        "accuracy4 = history4.history[\"accuracy\"]\n",
        "val_accuracy4 = history4.history[\"val_accuracy\"]\n",
        "loss4 = history4.history[\"loss\"]\n",
        "val_loss4 = history4.history[\"val_loss\"]"
      ],
      "metadata": {
        "id": "XMVTtNDhZl4t"
      },
      "execution_count": null,
      "outputs": []
    },
    {
      "cell_type": "code",
      "source": [
        "plt.plot(epochs, accuracy4, \"bo\", label=\"Training accuracy\")\n",
        "plt.plot(epochs, val_accuracy4, \"b\", label=\"Validation accuracy\")\n",
        "plt.title(\"Training and validation accuracy\")\n",
        "plt.legend()\n",
        "plt.figure()\n",
        "plt.plot(epochs, loss4, \"bo\", label=\"Training loss\")\n",
        "plt.plot(epochs, val_loss4, \"b\", label=\"Validation loss\")\n",
        "plt.title(\"Training and validation loss\")\n",
        "plt.legend()\n",
        "plt.show()"
      ],
      "metadata": {
        "colab": {
          "base_uri": "https://localhost:8080/",
          "height": 545
        },
        "id": "_bd1OLYbZv23",
        "outputId": "00e9086b-b1a2-4464-e982-c3387e55d94b"
      },
      "execution_count": null,
      "outputs": [
        {
          "output_type": "display_data",
          "data": {
            "image/png": "[encoded data removed]",
            "text/plain": [
              "<Figure size 432x288 with 1 Axes>"
            ]
          },
          "metadata": {
            "needs_background": "light"
          }
        },
        {
          "output_type": "display_data",
          "data": {
            "image/png": "[encoded data removed]",
            "text/plain": [
              "<Figure size 432x288 with 1 Axes>"
            ]
          },
          "metadata": {
            "needs_background": "light"
          }
        }
      ]
    },
    {
      "cell_type": "markdown",
      "source": [
        "#### Acurácia do conjunto de teste"
      ],
      "metadata": {
        "id": "NDA6inEBZ_on"
      }
    },
    {
      "cell_type": "code",
      "source": [
        "labels = [\"Vgg16 - Aumento dos dados\", \"Vgg16 - Ajuste fino\", \"Xcetion - Aumento dos dados\", \"Xcetion - Ajuste fino\"]"
      ],
      "metadata": {
        "id": "IV_0g9wyf89s"
      },
      "execution_count": null,
      "outputs": []
    },
    {
      "cell_type": "code",
      "source": [
        "x = np.arange(len(accs))\n",
        "plt.subplots(figsize=(10,5))\n",
        "plt.bar(x, accs, tick_label = labels)\n",
        "plt.title(\"Acurácia do conjunto de teste\")\n",
        "plt.show()"
      ],
      "metadata": {
        "colab": {
          "base_uri": "https://localhost:8080/",
          "height": 336
        },
        "id": "nCSxAExJaKLl",
        "outputId": "11f9d5f9-ea01-4c80-c690-c05ef1e9b953"
      },
      "execution_count": null,
      "outputs": [
        {
          "output_type": "display_data",
          "data": {
            "image/png": "[encoded data removed]",
            "text/plain": [
              "<Figure size 720x360 with 1 Axes>"
            ]
          },
          "metadata": {
            "needs_background": "light"
          }
        }
      ]
    },
    {
      "cell_type": "markdown",
      "source": [
        "https://medium.com/neuronio-br/acelere-seus-projetos-de-deep-learning-com-redes-neurais-pre-treinadas-b5c43bc590e1"
      ],
      "metadata": {
        "id": "K9CU5mdBhg0h"
      }
    }
  ]
}