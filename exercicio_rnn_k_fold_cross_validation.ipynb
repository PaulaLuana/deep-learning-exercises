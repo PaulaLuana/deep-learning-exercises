{
  "nbformat": 4,
  "nbformat_minor": 0,
  "metadata": {
    "colab": {
      "name": "exercicio-rnn-k-fold-cross-validation.ipynb",
      "provenance": [],
      "collapsed_sections": [],
      "include_colab_link": true
    },
    "kernelspec": {
      "display_name": "Python 3",
      "language": "python",
      "name": "python3"
    },
    "language_info": {
      "codemirror_mode": {
        "name": "ipython",
        "version": 3
      },
      "file_extension": ".py",
      "mimetype": "text/x-python",
      "name": "python",
      "nbconvert_exporter": "python",
      "pygments_lexer": "ipython3",
      "version": "3.7.0"
    }
  },
  "cells": [
    {
      "cell_type": "markdown",
      "metadata": {
        "id": "view-in-github",
        "colab_type": "text"
      },
      "source": [
        "<a href=\"https://colab.research.google.com/github/PaulaLuana/deep-learning-exercises/blob/master/exercicio_rnn_k_fold_cross_validation.ipynb\" target=\"_parent\"><img src=\"https://colab.research.google.com/assets/colab-badge.svg\" alt=\"Open In Colab\"/></a>"
      ]
    },
    {
      "cell_type": "markdown",
      "metadata": {
        "id": "uJZ34vjykZQy"
      },
      "source": [
        "This is a companion notebook for the book [Deep Learning with Python, Second Edition](https://www.manning.com/books/deep-learning-with-python-second-edition?a_aid=keras&a_bid=76564dff). For readability, it only contains runnable code blocks and section titles, and omits everything else in the book: text paragraphs, figures, and pseudocode.\n",
        "\n",
        "**If you want to be able to follow what's going on, I recommend reading the notebook side by side with your copy of the book.**\n",
        "\n",
        "This notebook was generated for TensorFlow 2.6."
      ]
    },
    {
      "cell_type": "markdown",
      "metadata": {
        "id": "JjvsfX5wkZQ3"
      },
      "source": [
        "# Fundamentals of machine learning"
      ]
    },
    {
      "cell_type": "markdown",
      "metadata": {
        "id": "4_Ze8Z1BkZQ4"
      },
      "source": [
        "## Generalization: The goal of machine learning"
      ]
    },
    {
      "cell_type": "markdown",
      "metadata": {
        "id": "ypNLqqC-kZQ6"
      },
      "source": [
        "**Adding white-noise channels or all-zeros channels to MNIST**"
      ]
    },
    {
      "cell_type": "markdown",
      "metadata": {
        "id": "QG8RIO6qnsov"
      },
      "source": [
        "Questão 1) Na célula abaixo, a variável **train_images_with_zeros_channels** representa um dataset gerado a partir das imagens inciais, com um canal de cor completamente zero. Complete o código da célula abaixo para que a variável **train_images_with_noise_channels**, da mesma forma que **train_images_with_zeros_channels** tenha mais um canal de cor, entretanto os valores devem ser gerados randomicamente. Essas duas variáveis representaão as imagens com atributos com alguma esécie de ruído."
      ]
    },
    {
      "cell_type": "code",
      "metadata": {
        "id": "BOqkv5ElUSfq"
      },
      "source": [
        "from tensorflow.keras.datasets import mnist\n",
        "import numpy as np"
      ],
      "execution_count": 1,
      "outputs": []
    },
    {
      "cell_type": "code",
      "metadata": {
        "id": "9euzEepBkZQ7"
      },
      "source": [
        "(train_images, train_labels), _ = mnist.load_data()\n",
        "train_images = train_images.reshape((60000, 28 * 28))\n",
        "train_images = train_images.astype(\"float32\") / 255\n",
        "\n",
        "train_images_with_zeros_channels = np.concatenate(\n",
        "    [train_images, np.zeros((len(train_images), 784))], axis=1)\n",
        "\n",
        "train_images_with_noise_channels = np.concatenate(\n",
        "    [train_images, np.random.random((len(train_images), 784))], axis=1)"
      ],
      "execution_count": 2,
      "outputs": []
    },
    {
      "cell_type": "markdown",
      "metadata": {
        "id": "1qagCX91kZQ8"
      },
      "source": [
        "**Training the same model on MNIST data with noise channels or all-zero channels**"
      ]
    },
    {
      "cell_type": "markdown",
      "metadata": {
        "id": "rOi95DvypPyZ"
      },
      "source": [
        "Questão 2) Complemente o código abaixo para definir um modelo sequencial com duas camadas totalmente conectadas. A primeira com 512 unidades com ativação ReLU, a segunda é uma camada de saída com a função Softmax para o conjunto de classes do problema em questão. Treine o modelo com as imagens com canal de cor gerado aleatoriamente utilizando  10 épocas, 20% do treino para validação e batch_size de tamanho 128."
      ]
    },
    {
      "cell_type": "code",
      "metadata": {
        "id": "weq38xEmZ97A"
      },
      "source": [
        "from tensorflow import keras\n",
        "from tensorflow.keras import layers"
      ],
      "execution_count": 3,
      "outputs": []
    },
    {
      "cell_type": "code",
      "metadata": {
        "colab": {
          "base_uri": "https://localhost:8080/"
        },
        "id": "VvuADbbbafoQ",
        "outputId": "2299cdac-9607-4ab0-c59d-8be0aa252eab"
      },
      "source": [
        "np.unique(train_labels)"
      ],
      "execution_count": 4,
      "outputs": [
        {
          "output_type": "execute_result",
          "data": {
            "text/plain": [
              "array([0, 1, 2, 3, 4, 5, 6, 7, 8, 9], dtype=uint8)"
            ]
          },
          "metadata": {},
          "execution_count": 4
        }
      ]
    },
    {
      "cell_type": "code",
      "metadata": {
        "id": "4bB6mpbfkZQ9"
      },
      "source": [
        "def get_model():\n",
        "    model = keras.Sequential([\n",
        "        layers.Dense(512, activation=\"relu\"),\n",
        "        layers.Dense(10, activation=\"softmax\"),\n",
        "    ])\n",
        "    model.compile(optimizer=\"rmsprop\",\n",
        "                  loss=\"sparse_categorical_crossentropy\",\n",
        "                  metrics=[\"accuracy\"])\n",
        "    return model"
      ],
      "execution_count": 5,
      "outputs": []
    },
    {
      "cell_type": "code",
      "metadata": {
        "id": "w3nOQNjIcflv"
      },
      "source": [
        "train = train_images_with_noise_channels[:int(0.8 * len(train_images))]\n",
        "validation = train_images_with_noise_channels[int(0.8 * len(train_images)):]"
      ],
      "execution_count": 6,
      "outputs": []
    },
    {
      "cell_type": "code",
      "metadata": {
        "id": "tcIdBPOLp6VN"
      },
      "source": [
        "partial_x_train = train[:,:-1]\n",
        "partial_y_train = train[:,-1]\n",
        "x_val = validation[:,:-1]\n",
        "y_val = validation[:,-1]"
      ],
      "execution_count": 7,
      "outputs": []
    },
    {
      "cell_type": "code",
      "metadata": {
        "id": "0OGXMYxlbFtq",
        "colab": {
          "base_uri": "https://localhost:8080/"
        },
        "outputId": "47fe2ec4-411f-4e6c-d4e5-9052ae8e35fb"
      },
      "source": [
        "model = get_model()\n",
        "history_noise = model.fit(partial_x_train, partial_y_train, epochs=10, batch_size=128, validation_data=(x_val, y_val))"
      ],
      "execution_count": 8,
      "outputs": [
        {
          "output_type": "stream",
          "name": "stdout",
          "text": [
            "Epoch 1/10\n",
            "375/375 [==============================] - 11s 27ms/step - loss: 0.0069 - accuracy: 0.0000e+00 - val_loss: 0.0000e+00 - val_accuracy: 0.0000e+00\n",
            "Epoch 2/10\n",
            "375/375 [==============================] - 7s 19ms/step - loss: 0.0000e+00 - accuracy: 0.0000e+00 - val_loss: 0.0000e+00 - val_accuracy: 0.0000e+00\n",
            "Epoch 3/10\n",
            "375/375 [==============================] - 7s 19ms/step - loss: 0.0000e+00 - accuracy: 0.0000e+00 - val_loss: 0.0000e+00 - val_accuracy: 0.0000e+00\n",
            "Epoch 4/10\n",
            "375/375 [==============================] - 7s 18ms/step - loss: 0.0000e+00 - accuracy: 0.0000e+00 - val_loss: 0.0000e+00 - val_accuracy: 0.0000e+00\n",
            "Epoch 5/10\n",
            "375/375 [==============================] - 7s 20ms/step - loss: 0.0000e+00 - accuracy: 0.0000e+00 - val_loss: 0.0000e+00 - val_accuracy: 0.0000e+00\n",
            "Epoch 6/10\n",
            "375/375 [==============================] - 7s 19ms/step - loss: 0.0000e+00 - accuracy: 0.0000e+00 - val_loss: 0.0000e+00 - val_accuracy: 0.0000e+00\n",
            "Epoch 7/10\n",
            "375/375 [==============================] - 7s 19ms/step - loss: 0.0000e+00 - accuracy: 0.0000e+00 - val_loss: 0.0000e+00 - val_accuracy: 0.0000e+00\n",
            "Epoch 8/10\n",
            "375/375 [==============================] - 7s 19ms/step - loss: 0.0000e+00 - accuracy: 0.0000e+00 - val_loss: 0.0000e+00 - val_accuracy: 0.0000e+00\n",
            "Epoch 9/10\n",
            "375/375 [==============================] - 7s 18ms/step - loss: 0.0000e+00 - accuracy: 0.0000e+00 - val_loss: 0.0000e+00 - val_accuracy: 0.0000e+00\n",
            "Epoch 10/10\n",
            "375/375 [==============================] - 7s 18ms/step - loss: 0.0000e+00 - accuracy: 0.0000e+00 - val_loss: 0.0000e+00 - val_accuracy: 0.0000e+00\n"
          ]
        }
      ]
    },
    {
      "cell_type": "code",
      "metadata": {
        "colab": {
          "base_uri": "https://localhost:8080/"
        },
        "id": "16z_NwYwsxTi",
        "outputId": "daf3a84d-d002-4392-d1a0-9633664b0d52"
      },
      "source": [
        "partial_y_train"
      ],
      "execution_count": 9,
      "outputs": [
        {
          "output_type": "execute_result",
          "data": {
            "text/plain": [
              "array([0.33929876, 0.96557781, 0.85332235, ..., 0.56977633, 0.90084945,\n",
              "       0.95906552])"
            ]
          },
          "metadata": {},
          "execution_count": 9
        }
      ]
    },
    {
      "cell_type": "markdown",
      "metadata": {
        "id": "bhZewJkMqAOS"
      },
      "source": [
        "Questão 3) Obtenha um novo modelo e treine com os mesmos parâmetros da questão anterior utilizando as imagens com canal de cor zerado. "
      ]
    },
    {
      "cell_type": "code",
      "metadata": {
        "id": "QBRUbAkWpsvs"
      },
      "source": [
        "def get_model():\n",
        "    model = keras.Sequential([\n",
        "        layers.Dense(64, activation=\"linear\"),\n",
        "        layers.Dense(64, activation=\"linear\"),\n",
        "        layers.Dense(10, activation=\"relu\"),\n",
        "    ])\n",
        "    model.compile(optimizer=\"rmsprop\",\n",
        "                  loss=\"sparse_categorical_crossentropy\",\n",
        "                  metrics=[\"accuracy\"])\n",
        "    return model"
      ],
      "execution_count": 10,
      "outputs": []
    },
    {
      "cell_type": "code",
      "metadata": {
        "id": "vanKpXs7uyba"
      },
      "source": [
        "train = train_images_with_zeros_channels[:int(0.8 * len(train_images))]\n",
        "validation = train_images_with_zeros_channels[int(0.8 * len(train_images)):]"
      ],
      "execution_count": 11,
      "outputs": []
    },
    {
      "cell_type": "code",
      "metadata": {
        "id": "yfO75Yrjuybb"
      },
      "source": [
        "partial_x_train = train[:,:-1]\n",
        "partial_y_train = train[:,-1]\n",
        "x_val = validation[:,:-1]\n",
        "y_val = validation[:,-1]"
      ],
      "execution_count": 12,
      "outputs": []
    },
    {
      "cell_type": "code",
      "metadata": {
        "colab": {
          "base_uri": "https://localhost:8080/"
        },
        "id": "7kkOjCIAugcO",
        "outputId": "60aeab18-9dde-4ac2-b359-edd6eb0c6a0e"
      },
      "source": [
        "model = get_model()\n",
        "history_zeros = model.fit(partial_x_train, partial_y_train, epochs=10, batch_size=128, validation_data=(x_val, y_val))"
      ],
      "execution_count": 13,
      "outputs": [
        {
          "output_type": "stream",
          "name": "stdout",
          "text": [
            "Epoch 1/10\n",
            "375/375 [==============================] - 3s 7ms/step - loss: 0.0326 - accuracy: 0.9976 - val_loss: 9.5401e-07 - val_accuracy: 1.0000\n",
            "Epoch 2/10\n",
            "375/375 [==============================] - 2s 6ms/step - loss: 9.5378e-07 - accuracy: 1.0000 - val_loss: 9.5377e-07 - val_accuracy: 1.0000\n",
            "Epoch 3/10\n",
            "375/375 [==============================] - 2s 6ms/step - loss: 9.5371e-07 - accuracy: 1.0000 - val_loss: 9.5373e-07 - val_accuracy: 1.0000\n",
            "Epoch 4/10\n",
            "375/375 [==============================] - 2s 6ms/step - loss: 9.5369e-07 - accuracy: 1.0000 - val_loss: 9.5369e-07 - val_accuracy: 1.0000\n",
            "Epoch 5/10\n",
            "375/375 [==============================] - 2s 6ms/step - loss: 9.5368e-07 - accuracy: 1.0000 - val_loss: 9.5369e-07 - val_accuracy: 1.0000\n",
            "Epoch 6/10\n",
            "375/375 [==============================] - 2s 6ms/step - loss: 9.5368e-07 - accuracy: 1.0000 - val_loss: 9.5369e-07 - val_accuracy: 1.0000\n",
            "Epoch 7/10\n",
            "375/375 [==============================] - 2s 6ms/step - loss: 9.5368e-07 - accuracy: 1.0000 - val_loss: 9.5369e-07 - val_accuracy: 1.0000\n",
            "Epoch 8/10\n",
            "375/375 [==============================] - 2s 6ms/step - loss: 9.5368e-07 - accuracy: 1.0000 - val_loss: 9.5369e-07 - val_accuracy: 1.0000\n",
            "Epoch 9/10\n",
            "375/375 [==============================] - 2s 6ms/step - loss: 9.5368e-07 - accuracy: 1.0000 - val_loss: 9.5369e-07 - val_accuracy: 1.0000\n",
            "Epoch 10/10\n",
            "375/375 [==============================] - 2s 6ms/step - loss: 9.5368e-07 - accuracy: 1.0000 - val_loss: 9.5369e-07 - val_accuracy: 1.0000\n"
          ]
        }
      ]
    },
    {
      "cell_type": "markdown",
      "metadata": {
        "id": "dn4bMKL4kZQ9"
      },
      "source": [
        "**Plotting a validation accuracy comparison**"
      ]
    },
    {
      "cell_type": "markdown",
      "metadata": {
        "id": "nfvs8ENPqTJn"
      },
      "source": [
        "Questão 4) Plot em um único gráfico as curvas da acurácia dos modelos treinados anteriormente. Avalie o efeito dos modelos treinados com os novos canais de cor (zero e com ruído aletório)."
      ]
    },
    {
      "cell_type": "code",
      "metadata": {
        "id": "8wTh9essveQJ"
      },
      "source": [
        "import matplotlib.pyplot as plt"
      ],
      "execution_count": 14,
      "outputs": []
    },
    {
      "cell_type": "code",
      "metadata": {
        "id": "O7Dqcfc0kZQ9",
        "colab": {
          "base_uri": "https://localhost:8080/",
          "height": 295
        },
        "outputId": "ca5d3821-2b30-4289-c53e-0b19abcc6c92"
      },
      "source": [
        "acc1 = history_noise.history[\"accuracy\"]\n",
        "acc2 = history_zeros.history[\"accuracy\"]\n",
        "epochs = range(1, len(acc1) + 1)\n",
        "plt.plot(epochs, acc1, \"b\", label=\"noise data\", color='red')\n",
        "plt.plot(epochs, acc2, \"b\", label=\"reset data\", color='green')\n",
        "plt.title(\"Curvas da acurácia dos modelos treinados anteriormente\")\n",
        "plt.xlabel(\"Epochs\")\n",
        "plt.ylabel(\"Accuracy\")\n",
        "plt.legend()\n",
        "plt.show()"
      ],
      "execution_count": 15,
      "outputs": [
        {
          "output_type": "display_data",
          "data": {
            "image/png": "[encoded data removed]",
            "text/plain": [
              "<Figure size 432x288 with 1 Axes>"
            ]
          },
          "metadata": {
            "needs_background": "light"
          }
        }
      ]
    },
    {
      "cell_type": "markdown",
      "metadata": {
        "id": "EiVQOjwOkZQ-"
      },
      "source": [
        "**Fitting a MNIST model with randomly shuffled labels**"
      ]
    },
    {
      "cell_type": "markdown",
      "metadata": {
        "id": "4No-tHZJW0DG"
      },
      "source": [
        "Questão 5) Altere a célula a seguir para que as labels utilizadas para treino sejam o resultado de uma permutação aleatória das labels dos dados originais. Treine o modelo e valie o resultado do treinamento utilizando essas labels. Plot os gráficos de acurácia para treino e validação. Como se comportou a acurácia nos dados de treino e de validação? O que isso nos sugere?"
      ]
    },
    {
      "cell_type": "code",
      "metadata": {
        "id": "G7SMJgmtykG_"
      },
      "source": [
        "import random as random"
      ],
      "execution_count": 16,
      "outputs": []
    },
    {
      "cell_type": "code",
      "metadata": {
        "id": "SXaf_IsTkZQ-"
      },
      "source": [
        "(train_images, train_labels), _ = mnist.load_data()\n",
        "train_images = train_images.reshape((60000, 28 * 28))\n",
        "train_images = train_images.astype(\"float32\") / 255"
      ],
      "execution_count": 17,
      "outputs": []
    },
    {
      "cell_type": "code",
      "metadata": {
        "colab": {
          "base_uri": "https://localhost:8080/"
        },
        "id": "JsjrERaS1ArP",
        "outputId": "ea5e33bf-1be4-4299-d42f-74635911adfd"
      },
      "source": [
        "train_images.shape"
      ],
      "execution_count": 18,
      "outputs": [
        {
          "output_type": "execute_result",
          "data": {
            "text/plain": [
              "(60000, 784)"
            ]
          },
          "metadata": {},
          "execution_count": 18
        }
      ]
    },
    {
      "cell_type": "code",
      "metadata": {
        "id": "tvp-v4ppyNMj"
      },
      "source": [
        "random_train_labels = train_labels.copy()\n",
        "random.shuffle(random_train_labels)"
      ],
      "execution_count": 19,
      "outputs": []
    },
    {
      "cell_type": "code",
      "metadata": {
        "colab": {
          "base_uri": "https://localhost:8080/"
        },
        "id": "m2Zv6wh31CSp",
        "outputId": "c4c7274a-f328-41fd-8a10-834cdea85488"
      },
      "source": [
        "random_train_labels"
      ],
      "execution_count": 20,
      "outputs": [
        {
          "output_type": "execute_result",
          "data": {
            "text/plain": [
              "array([4, 0, 9, ..., 7, 5, 2], dtype=uint8)"
            ]
          },
          "metadata": {},
          "execution_count": 20
        }
      ]
    },
    {
      "cell_type": "code",
      "metadata": {
        "id": "n7rKKEaS1xiC"
      },
      "source": [
        "x_train = train_images[:int(0.8 * len(train_images))]\n",
        "x_val = train_images[int(0.8 * len(train_images)):]\n",
        "y_train = random_train_labels[:int(0.8 * len(train_images))]\n",
        "y_val = random_train_labels[int(0.8 * len(train_images)):]\n"
      ],
      "execution_count": 21,
      "outputs": []
    },
    {
      "cell_type": "code",
      "metadata": {
        "colab": {
          "base_uri": "https://localhost:8080/"
        },
        "id": "lfHLo3HRd4CG",
        "outputId": "68a65f67-ff49-40e9-fab3-c931d3441b17"
      },
      "source": [
        "train.shape"
      ],
      "execution_count": 22,
      "outputs": [
        {
          "output_type": "execute_result",
          "data": {
            "text/plain": [
              "(48000, 1568)"
            ]
          },
          "metadata": {},
          "execution_count": 22
        }
      ]
    },
    {
      "cell_type": "code",
      "metadata": {
        "id": "zuyI5S7Z0m1q"
      },
      "source": [
        "def get_model():\n",
        "    model = keras.Sequential([\n",
        "        layers.Dense(64, activation=\"linear\"),\n",
        "        layers.Dense(64, activation=\"linear\"),\n",
        "        layers.Dense(10, activation=\"softmax\"),\n",
        "    ])\n",
        "    model.compile(optimizer=\"rmsprop\",\n",
        "                  loss=\"sparse_categorical_crossentropy\",\n",
        "                  metrics=[\"accuracy\"])\n",
        "    return model"
      ],
      "execution_count": 23,
      "outputs": []
    },
    {
      "cell_type": "code",
      "metadata": {
        "colab": {
          "base_uri": "https://localhost:8080/"
        },
        "id": "ZMU7us0Z1xiF",
        "outputId": "06bcad63-2cf7-4323-ab41-2defdd06ffe3"
      },
      "source": [
        "model = get_model()\n",
        "history_labels_random = model.fit(x_train, y_train, epochs=10, batch_size=128, validation_data=(x_val, y_val))"
      ],
      "execution_count": 24,
      "outputs": [
        {
          "output_type": "stream",
          "name": "stdout",
          "text": [
            "Epoch 1/10\n",
            "375/375 [==============================] - 2s 5ms/step - loss: 2.3327 - accuracy: 0.1023 - val_loss: 2.3098 - val_accuracy: 0.1068\n",
            "Epoch 2/10\n",
            "375/375 [==============================] - 2s 5ms/step - loss: 2.3053 - accuracy: 0.1105 - val_loss: 2.3046 - val_accuracy: 0.1104\n",
            "Epoch 3/10\n",
            "375/375 [==============================] - 2s 4ms/step - loss: 2.3031 - accuracy: 0.1119 - val_loss: 2.3117 - val_accuracy: 0.1025\n",
            "Epoch 4/10\n",
            "375/375 [==============================] - 2s 4ms/step - loss: 2.3011 - accuracy: 0.1148 - val_loss: 2.3094 - val_accuracy: 0.1090\n",
            "Epoch 5/10\n",
            "375/375 [==============================] - 2s 5ms/step - loss: 2.2993 - accuracy: 0.1185 - val_loss: 2.3090 - val_accuracy: 0.1098\n",
            "Epoch 6/10\n",
            "375/375 [==============================] - 2s 5ms/step - loss: 2.2982 - accuracy: 0.1197 - val_loss: 2.3082 - val_accuracy: 0.1085\n",
            "Epoch 7/10\n",
            "375/375 [==============================] - 2s 4ms/step - loss: 2.2965 - accuracy: 0.1213 - val_loss: 2.3116 - val_accuracy: 0.1030\n",
            "Epoch 8/10\n",
            "375/375 [==============================] - 2s 4ms/step - loss: 2.2954 - accuracy: 0.1218 - val_loss: 2.3156 - val_accuracy: 0.1006\n",
            "Epoch 9/10\n",
            "375/375 [==============================] - 2s 4ms/step - loss: 2.2941 - accuracy: 0.1243 - val_loss: 2.3129 - val_accuracy: 0.1082\n",
            "Epoch 10/10\n",
            "375/375 [==============================] - 2s 5ms/step - loss: 2.2930 - accuracy: 0.1257 - val_loss: 2.3144 - val_accuracy: 0.1049\n"
          ]
        }
      ]
    },
    {
      "cell_type": "code",
      "metadata": {
        "colab": {
          "base_uri": "https://localhost:8080/",
          "height": 295
        },
        "id": "JaesQohc3GuO",
        "outputId": "5bbf3aa1-fc60-4257-e283-45652b1c1201"
      },
      "source": [
        "acc = history_labels_random.history[\"accuracy\"]\n",
        "val_acc = history_labels_random.history[\"val_accuracy\"]\n",
        "epochs = range(1, len(acc) + 1)\n",
        "plt.plot(epochs, acc, \"b\", label=\"accuracy train\", color='red')\n",
        "plt.plot(epochs, val_acc, \"b\", label=\"val_accuracy\", color='green')\n",
        "plt.title(\"Curvas da acurácia e validação da acurácia com os labels em random\")\n",
        "plt.xlabel(\"Epochs\")\n",
        "plt.ylabel(\"Accuracy\")\n",
        "plt.legend()\n",
        "plt.show()"
      ],
      "execution_count": 25,
      "outputs": [
        {
          "output_type": "display_data",
          "data": {
            "image/png": "[encoded data removed]",
            "text/plain": [
              "<Figure size 432x288 with 1 Axes>"
            ]
          },
          "metadata": {
            "needs_background": "light"
          }
        }
      ]
    },
    {
      "cell_type": "markdown",
      "metadata": {
        "id": "idb7UC7TkZRC"
      },
      "source": [
        "Questão 6) Treine e valide o modelo aplicando o método k-fold cross validation para as seguintes configurações de parâmetros das camadas ocultas. \n",
        "\n",
        "\n",
        "\n",
        "*   1 camada densa com 512 unidades\n",
        "*   1 camada densa com 256 un1dades\n",
        "*   2 camadas densas uma com 512 unidades e outra com 128 unidades\n",
        "*    2 camadas densas uma com 256 unidades e outra com 128 unidades\n",
        "\n",
        "\n",
        "\n",
        "\n"
      ]
    },
    {
      "cell_type": "code",
      "metadata": {
        "id": "-caLSLTd5h4i"
      },
      "source": [
        "from sklearn.model_selection import KFold\n"
      ],
      "execution_count": 26,
      "outputs": []
    },
    {
      "cell_type": "code",
      "metadata": {
        "id": "Ea-EoaTW4_Vh"
      },
      "source": [
        "(train_images, train_labels), _ = mnist.load_data()\n",
        "train_images = train_images.reshape((60000, 28 * 28))\n",
        "train_images = train_images.astype(\"float32\") / 255"
      ],
      "execution_count": 27,
      "outputs": []
    },
    {
      "cell_type": "markdown",
      "metadata": {
        "id": "s_7CdhDO5ZD7"
      },
      "source": [
        "**1 camada densa com 512 unidades**"
      ]
    },
    {
      "cell_type": "code",
      "metadata": {
        "id": "20Dly2ij4ZSu"
      },
      "source": [
        "acc_per_fold = []\n",
        "loss_per_fold = []\n",
        "kfold = KFold(n_splits=5)"
      ],
      "execution_count": 28,
      "outputs": []
    },
    {
      "cell_type": "code",
      "metadata": {
        "id": "hMV0_5btia8S"
      },
      "source": [
        "inputs = train_images.copy()\n",
        "targets = train_labels.copy()"
      ],
      "execution_count": 29,
      "outputs": []
    },
    {
      "cell_type": "code",
      "metadata": {
        "colab": {
          "base_uri": "https://localhost:8080/"
        },
        "id": "Dx9SRJJe4ZTK",
        "outputId": "c1e5a9a4-21f5-4aa9-d6dd-ff024967eec4"
      },
      "source": [
        "fold_no = 1\n",
        "for train, test in kfold.split(inputs, targets):\n",
        "\n",
        "  model = keras.Sequential([\n",
        "        layers.Dense(512, activation=\"linear\"),\n",
        "        layers.Dense(10, activation=\"softmax\")\n",
        "  ])\n",
        "\n",
        "  model.compile(optimizer=\"rmsprop\",\n",
        "                loss=\"sparse_categorical_crossentropy\",\n",
        "                metrics=[\"accuracy\"])\n",
        "\n",
        "  print('------------------------------------------------------------------------')\n",
        "  print(f'Training for fold {fold_no} ...')\n",
        "\n",
        "  history = model.fit(inputs[train], targets[train],\n",
        "              batch_size=300,\n",
        "              epochs=10)\n",
        "  \n",
        "\n",
        "  scores = model.evaluate(inputs[test], targets[test], verbose=0)\n",
        "  print(f'Score for fold {fold_no}: {model.metrics_names[0]} of {scores[0]}; {model.metrics_names[1]} of {scores[1]*100}%')\n",
        "  acc_per_fold.append(scores[1] * 100)\n",
        "  loss_per_fold.append(scores[0])\n",
        "\n",
        "  fold_no = fold_no + 1"
      ],
      "execution_count": 30,
      "outputs": [
        {
          "output_type": "stream",
          "name": "stdout",
          "text": [
            "------------------------------------------------------------------------\n",
            "Training for fold 1 ...\n",
            "Epoch 1/10\n",
            "160/160 [==============================] - 3s 16ms/step - loss: 0.4501 - accuracy: 0.8662\n",
            "Epoch 2/10\n",
            "160/160 [==============================] - 3s 16ms/step - loss: 0.3184 - accuracy: 0.9086\n",
            "Epoch 3/10\n",
            "160/160 [==============================] - 2s 15ms/step - loss: 0.3051 - accuracy: 0.9135\n",
            "Epoch 4/10\n",
            "160/160 [==============================] - 2s 15ms/step - loss: 0.2911 - accuracy: 0.9173\n",
            "Epoch 5/10\n",
            "160/160 [==============================] - 2s 15ms/step - loss: 0.2867 - accuracy: 0.9194\n",
            "Epoch 6/10\n",
            "160/160 [==============================] - 2s 15ms/step - loss: 0.2805 - accuracy: 0.9209\n",
            "Epoch 7/10\n",
            "160/160 [==============================] - 2s 15ms/step - loss: 0.2756 - accuracy: 0.9235\n",
            "Epoch 8/10\n",
            "160/160 [==============================] - 2s 15ms/step - loss: 0.2730 - accuracy: 0.9234\n",
            "Epoch 9/10\n",
            "160/160 [==============================] - 2s 15ms/step - loss: 0.2697 - accuracy: 0.9245\n",
            "Epoch 10/10\n",
            "160/160 [==============================] - 2s 15ms/step - loss: 0.2674 - accuracy: 0.9252\n",
            "Score for fold 1: loss of 0.29510870575904846; accuracy of 92.04166531562805%\n",
            "------------------------------------------------------------------------\n",
            "Training for fold 2 ...\n",
            "Epoch 1/10\n",
            "160/160 [==============================] - 3s 15ms/step - loss: 0.4481 - accuracy: 0.8671\n",
            "Epoch 2/10\n",
            "160/160 [==============================] - 2s 15ms/step - loss: 0.3105 - accuracy: 0.9109\n",
            "Epoch 3/10\n",
            "160/160 [==============================] - 2s 15ms/step - loss: 0.2931 - accuracy: 0.9164\n",
            "Epoch 4/10\n",
            "160/160 [==============================] - 2s 15ms/step - loss: 0.2838 - accuracy: 0.9190\n",
            "Epoch 5/10\n",
            "160/160 [==============================] - 2s 15ms/step - loss: 0.2773 - accuracy: 0.9217\n",
            "Epoch 6/10\n",
            "160/160 [==============================] - 2s 15ms/step - loss: 0.2745 - accuracy: 0.9226\n",
            "Epoch 7/10\n",
            "160/160 [==============================] - 2s 15ms/step - loss: 0.2690 - accuracy: 0.9244\n",
            "Epoch 8/10\n",
            "160/160 [==============================] - 2s 15ms/step - loss: 0.2659 - accuracy: 0.9260\n",
            "Epoch 9/10\n",
            "160/160 [==============================] - 2s 15ms/step - loss: 0.2626 - accuracy: 0.9264\n",
            "Epoch 10/10\n",
            "160/160 [==============================] - 2s 15ms/step - loss: 0.2609 - accuracy: 0.9258\n",
            "Score for fold 2: loss of 0.3286066949367523; accuracy of 90.84166884422302%\n",
            "------------------------------------------------------------------------\n",
            "Training for fold 3 ...\n",
            "Epoch 1/10\n",
            "160/160 [==============================] - 3s 15ms/step - loss: 0.4392 - accuracy: 0.8719\n",
            "Epoch 2/10\n",
            "160/160 [==============================] - 2s 15ms/step - loss: 0.3122 - accuracy: 0.9113\n",
            "Epoch 3/10\n",
            "160/160 [==============================] - 2s 15ms/step - loss: 0.2974 - accuracy: 0.9165\n",
            "Epoch 4/10\n",
            "160/160 [==============================] - 2s 15ms/step - loss: 0.2873 - accuracy: 0.9205\n",
            "Epoch 5/10\n",
            "160/160 [==============================] - 2s 15ms/step - loss: 0.2824 - accuracy: 0.9214\n",
            "Epoch 6/10\n",
            "160/160 [==============================] - 2s 15ms/step - loss: 0.2762 - accuracy: 0.9237\n",
            "Epoch 7/10\n",
            "160/160 [==============================] - 2s 15ms/step - loss: 0.2714 - accuracy: 0.9246\n",
            "Epoch 8/10\n",
            "160/160 [==============================] - 2s 15ms/step - loss: 0.2681 - accuracy: 0.9261\n",
            "Epoch 9/10\n",
            "160/160 [==============================] - 2s 15ms/step - loss: 0.2667 - accuracy: 0.9266\n",
            "Epoch 10/10\n",
            "160/160 [==============================] - 2s 15ms/step - loss: 0.2636 - accuracy: 0.9271\n",
            "Score for fold 3: loss of 0.3048035204410553; accuracy of 91.35833382606506%\n",
            "------------------------------------------------------------------------\n",
            "Training for fold 4 ...\n",
            "Epoch 1/10\n",
            "160/160 [==============================] - 3s 15ms/step - loss: 0.4372 - accuracy: 0.8712\n",
            "Epoch 2/10\n",
            "160/160 [==============================] - 2s 15ms/step - loss: 0.3081 - accuracy: 0.9124\n",
            "Epoch 3/10\n",
            "160/160 [==============================] - 2s 15ms/step - loss: 0.2895 - accuracy: 0.9190\n",
            "Epoch 4/10\n",
            "160/160 [==============================] - 2s 15ms/step - loss: 0.2799 - accuracy: 0.9211\n",
            "Epoch 5/10\n",
            "160/160 [==============================] - 2s 15ms/step - loss: 0.2735 - accuracy: 0.9237\n",
            "Epoch 6/10\n",
            "160/160 [==============================] - 2s 15ms/step - loss: 0.2691 - accuracy: 0.9255\n",
            "Epoch 7/10\n",
            "160/160 [==============================] - 2s 15ms/step - loss: 0.2662 - accuracy: 0.9259\n",
            "Epoch 8/10\n",
            "160/160 [==============================] - 2s 15ms/step - loss: 0.2631 - accuracy: 0.9264\n",
            "Epoch 9/10\n",
            "160/160 [==============================] - 2s 15ms/step - loss: 0.2599 - accuracy: 0.9284\n",
            "Epoch 10/10\n",
            "160/160 [==============================] - 2s 15ms/step - loss: 0.2571 - accuracy: 0.9287\n",
            "Score for fold 4: loss of 0.3360792398452759; accuracy of 90.88333249092102%\n",
            "------------------------------------------------------------------------\n",
            "Training for fold 5 ...\n",
            "Epoch 1/10\n",
            "160/160 [==============================] - 3s 15ms/step - loss: 0.4557 - accuracy: 0.8660\n",
            "Epoch 2/10\n",
            "160/160 [==============================] - 2s 15ms/step - loss: 0.3195 - accuracy: 0.9079\n",
            "Epoch 3/10\n",
            "160/160 [==============================] - 2s 15ms/step - loss: 0.3023 - accuracy: 0.9147\n",
            "Epoch 4/10\n",
            "160/160 [==============================] - 3s 16ms/step - loss: 0.2938 - accuracy: 0.9185\n",
            "Epoch 5/10\n",
            "160/160 [==============================] - 2s 15ms/step - loss: 0.2867 - accuracy: 0.9198\n",
            "Epoch 6/10\n",
            "160/160 [==============================] - 2s 15ms/step - loss: 0.2832 - accuracy: 0.9207\n",
            "Epoch 7/10\n",
            "160/160 [==============================] - 2s 15ms/step - loss: 0.2765 - accuracy: 0.9229\n",
            "Epoch 8/10\n",
            "160/160 [==============================] - 2s 15ms/step - loss: 0.2760 - accuracy: 0.9225\n",
            "Epoch 9/10\n",
            "160/160 [==============================] - 2s 15ms/step - loss: 0.2718 - accuracy: 0.9239\n",
            "Epoch 10/10\n",
            "160/160 [==============================] - 2s 15ms/step - loss: 0.2693 - accuracy: 0.9250\n",
            "Score for fold 5: loss of 0.27728089690208435; accuracy of 92.5499975681305%\n"
          ]
        }
      ]
    },
    {
      "cell_type": "markdown",
      "metadata": {
        "id": "-oTB8aD0lilo"
      },
      "source": [
        "**1 camada densa com 256 unidades**"
      ]
    },
    {
      "cell_type": "code",
      "metadata": {
        "id": "z0qcdSK6lilp"
      },
      "source": [
        "acc_per_fold = []\n",
        "loss_per_fold = []\n",
        "kfold = KFold(n_splits=5)"
      ],
      "execution_count": 31,
      "outputs": []
    },
    {
      "cell_type": "code",
      "metadata": {
        "colab": {
          "base_uri": "https://localhost:8080/"
        },
        "id": "bktEHeKslilr",
        "outputId": "85cc7409-7aa9-4db3-f469-fc3560303499"
      },
      "source": [
        "fold_no = 1\n",
        "for train, test in kfold.split(inputs, targets):\n",
        "\n",
        "  model = keras.Sequential([\n",
        "        layers.Dense(256, activation=\"linear\"),\n",
        "        layers.Dense(10, activation=\"softmax\")\n",
        "  ])\n",
        "\n",
        "  model.compile(optimizer=\"rmsprop\",\n",
        "                loss=\"sparse_categorical_crossentropy\",\n",
        "                metrics=[\"accuracy\"])\n",
        "\n",
        "  print('------------------------------------------------------------------------')\n",
        "  print(f'Training for fold {fold_no} ...')\n",
        "\n",
        "  history = model.fit(inputs[train], targets[train],\n",
        "              batch_size=300,\n",
        "              epochs=10)\n",
        "  \n",
        "\n",
        "  scores = model.evaluate(inputs[test], targets[test], verbose=0)\n",
        "  print(f'Score for fold {fold_no}: {model.metrics_names[0]} of {scores[0]}; {model.metrics_names[1]} of {scores[1]*100}%')\n",
        "  acc_per_fold.append(scores[1] * 100)\n",
        "  loss_per_fold.append(scores[0])\n",
        "\n",
        "  fold_no = fold_no + 1"
      ],
      "execution_count": 32,
      "outputs": [
        {
          "output_type": "stream",
          "name": "stdout",
          "text": [
            "------------------------------------------------------------------------\n",
            "Training for fold 1 ...\n",
            "Epoch 1/10\n",
            "160/160 [==============================] - 2s 9ms/step - loss: 0.4524 - accuracy: 0.8708\n",
            "Epoch 2/10\n",
            "160/160 [==============================] - 2s 10ms/step - loss: 0.3087 - accuracy: 0.9116\n",
            "Epoch 3/10\n",
            "160/160 [==============================] - 2s 10ms/step - loss: 0.2921 - accuracy: 0.9174\n",
            "Epoch 4/10\n",
            "160/160 [==============================] - 1s 9ms/step - loss: 0.2849 - accuracy: 0.9198\n",
            "Epoch 5/10\n",
            "160/160 [==============================] - 1s 9ms/step - loss: 0.2776 - accuracy: 0.9222\n",
            "Epoch 6/10\n",
            "160/160 [==============================] - 1s 9ms/step - loss: 0.2738 - accuracy: 0.9236\n",
            "Epoch 7/10\n",
            "160/160 [==============================] - 1s 9ms/step - loss: 0.2712 - accuracy: 0.9244\n",
            "Epoch 8/10\n",
            "160/160 [==============================] - 1s 9ms/step - loss: 0.2665 - accuracy: 0.9259\n",
            "Epoch 9/10\n",
            "160/160 [==============================] - 1s 9ms/step - loss: 0.2652 - accuracy: 0.9256\n",
            "Epoch 10/10\n",
            "160/160 [==============================] - 1s 9ms/step - loss: 0.2629 - accuracy: 0.9274\n",
            "Score for fold 1: loss of 0.2826490104198456; accuracy of 92.09166765213013%\n",
            "------------------------------------------------------------------------\n",
            "Training for fold 2 ...\n",
            "Epoch 1/10\n",
            "160/160 [==============================] - 2s 9ms/step - loss: 0.4429 - accuracy: 0.8717\n",
            "Epoch 2/10\n",
            "160/160 [==============================] - 1s 9ms/step - loss: 0.3042 - accuracy: 0.9127\n",
            "Epoch 3/10\n",
            "160/160 [==============================] - 1s 9ms/step - loss: 0.2866 - accuracy: 0.9194\n",
            "Epoch 4/10\n",
            "160/160 [==============================] - 1s 9ms/step - loss: 0.2771 - accuracy: 0.9225\n",
            "Epoch 5/10\n",
            "160/160 [==============================] - 1s 9ms/step - loss: 0.2716 - accuracy: 0.9250\n",
            "Epoch 6/10\n",
            "160/160 [==============================] - 1s 9ms/step - loss: 0.2667 - accuracy: 0.9247\n",
            "Epoch 7/10\n",
            "160/160 [==============================] - 1s 9ms/step - loss: 0.2623 - accuracy: 0.9265\n",
            "Epoch 8/10\n",
            "160/160 [==============================] - 1s 9ms/step - loss: 0.2611 - accuracy: 0.9268\n",
            "Epoch 9/10\n",
            "160/160 [==============================] - 1s 9ms/step - loss: 0.2584 - accuracy: 0.9283\n",
            "Epoch 10/10\n",
            "160/160 [==============================] - 2s 9ms/step - loss: 0.2558 - accuracy: 0.9291\n",
            "Score for fold 2: loss of 0.30748119950294495; accuracy of 91.95833206176758%\n",
            "------------------------------------------------------------------------\n",
            "Training for fold 3 ...\n",
            "Epoch 1/10\n",
            "160/160 [==============================] - 2s 9ms/step - loss: 0.4420 - accuracy: 0.8739\n",
            "Epoch 2/10\n",
            "160/160 [==============================] - 1s 9ms/step - loss: 0.3033 - accuracy: 0.9141\n",
            "Epoch 3/10\n",
            "160/160 [==============================] - 1s 9ms/step - loss: 0.2908 - accuracy: 0.9185\n",
            "Epoch 4/10\n",
            "160/160 [==============================] - 1s 9ms/step - loss: 0.2807 - accuracy: 0.9226\n",
            "Epoch 5/10\n",
            "160/160 [==============================] - 1s 9ms/step - loss: 0.2743 - accuracy: 0.9244\n",
            "Epoch 6/10\n",
            "160/160 [==============================] - 1s 9ms/step - loss: 0.2694 - accuracy: 0.9265\n",
            "Epoch 7/10\n",
            "160/160 [==============================] - 1s 9ms/step - loss: 0.2653 - accuracy: 0.9266\n",
            "Epoch 8/10\n",
            "160/160 [==============================] - 1s 9ms/step - loss: 0.2636 - accuracy: 0.9272\n",
            "Epoch 9/10\n",
            "160/160 [==============================] - 1s 9ms/step - loss: 0.2605 - accuracy: 0.9273\n",
            "Epoch 10/10\n",
            "160/160 [==============================] - 1s 9ms/step - loss: 0.2584 - accuracy: 0.9289\n",
            "Score for fold 3: loss of 0.30136579275131226; accuracy of 91.8916642665863%\n",
            "------------------------------------------------------------------------\n",
            "Training for fold 4 ...\n",
            "Epoch 1/10\n",
            "160/160 [==============================] - 2s 10ms/step - loss: 0.4419 - accuracy: 0.8743\n",
            "Epoch 2/10\n",
            "160/160 [==============================] - 2s 10ms/step - loss: 0.2982 - accuracy: 0.9157\n",
            "Epoch 3/10\n",
            "160/160 [==============================] - 2s 10ms/step - loss: 0.2812 - accuracy: 0.9205\n",
            "Epoch 4/10\n",
            "160/160 [==============================] - 2s 10ms/step - loss: 0.2742 - accuracy: 0.9226\n",
            "Epoch 5/10\n",
            "160/160 [==============================] - 2s 10ms/step - loss: 0.2676 - accuracy: 0.9254\n",
            "Epoch 6/10\n",
            "160/160 [==============================] - 2s 10ms/step - loss: 0.2625 - accuracy: 0.9265\n",
            "Epoch 7/10\n",
            "160/160 [==============================] - 2s 9ms/step - loss: 0.2592 - accuracy: 0.9267\n",
            "Epoch 8/10\n",
            "160/160 [==============================] - 1s 9ms/step - loss: 0.2565 - accuracy: 0.9287\n",
            "Epoch 9/10\n",
            "160/160 [==============================] - 2s 10ms/step - loss: 0.2552 - accuracy: 0.9290\n",
            "Epoch 10/10\n",
            "160/160 [==============================] - 2s 10ms/step - loss: 0.2522 - accuracy: 0.9306\n",
            "Score for fold 4: loss of 0.32699620723724365; accuracy of 91.52500033378601%\n",
            "------------------------------------------------------------------------\n",
            "Training for fold 5 ...\n",
            "Epoch 1/10\n",
            "160/160 [==============================] - 2s 10ms/step - loss: 0.4595 - accuracy: 0.8676\n",
            "Epoch 2/10\n",
            "160/160 [==============================] - 2s 10ms/step - loss: 0.3103 - accuracy: 0.9129\n",
            "Epoch 3/10\n",
            "160/160 [==============================] - 1s 9ms/step - loss: 0.2950 - accuracy: 0.9169\n",
            "Epoch 4/10\n",
            "160/160 [==============================] - 1s 9ms/step - loss: 0.2853 - accuracy: 0.9193\n",
            "Epoch 5/10\n",
            "160/160 [==============================] - 2s 9ms/step - loss: 0.2790 - accuracy: 0.9225\n",
            "Epoch 6/10\n",
            "160/160 [==============================] - 1s 9ms/step - loss: 0.2766 - accuracy: 0.9230\n",
            "Epoch 7/10\n",
            "160/160 [==============================] - 2s 9ms/step - loss: 0.2728 - accuracy: 0.9225\n",
            "Epoch 8/10\n",
            "160/160 [==============================] - 2s 10ms/step - loss: 0.2691 - accuracy: 0.9240\n",
            "Epoch 9/10\n",
            "160/160 [==============================] - 2s 9ms/step - loss: 0.2659 - accuracy: 0.9261\n",
            "Epoch 10/10\n",
            "160/160 [==============================] - 2s 10ms/step - loss: 0.2642 - accuracy: 0.9259\n",
            "Score for fold 5: loss of 0.27042365074157715; accuracy of 92.5083339214325%\n"
          ]
        }
      ]
    },
    {
      "cell_type": "markdown",
      "metadata": {
        "id": "gPdyU0HImEbR"
      },
      "source": [
        "**2 camadas densas uma com 512 unidades e outra com 128 unidades**"
      ]
    },
    {
      "cell_type": "code",
      "metadata": {
        "id": "hvL67ImhmaFN"
      },
      "source": [
        "acc_per_fold = []\n",
        "loss_per_fold = []\n",
        "kfold = KFold(n_splits=5)"
      ],
      "execution_count": 33,
      "outputs": []
    },
    {
      "cell_type": "code",
      "metadata": {
        "colab": {
          "base_uri": "https://localhost:8080/"
        },
        "id": "-KHMpNYqmaFd",
        "outputId": "6e116817-1a1f-40bb-d0a3-ec12135e4d95"
      },
      "source": [
        "fold_no = 1\n",
        "for train, test in kfold.split(inputs, targets):\n",
        "\n",
        "  model = keras.Sequential([\n",
        "        layers.Dense(512, activation=\"linear\"),\n",
        "        layers.Dense(512, activation=\"linear\"),\n",
        "        layers.Dense(128, activation=\"linear\"),\n",
        "        layers.Dense(10, activation=\"softmax\")\n",
        "  ])\n",
        "\n",
        "  model.compile(optimizer=\"rmsprop\",\n",
        "                loss=\"sparse_categorical_crossentropy\",\n",
        "                metrics=[\"accuracy\"])\n",
        "\n",
        "  print('------------------------------------------------------------------------')\n",
        "  print(f'Training for fold {fold_no} ...')\n",
        "\n",
        "  history = model.fit(inputs[train], targets[train],\n",
        "              batch_size=300,\n",
        "              epochs=10)\n",
        "  \n",
        "\n",
        "  scores = model.evaluate(inputs[test], targets[test], verbose=0)\n",
        "  print(f'Score for fold {fold_no}: {model.metrics_names[0]} of {scores[0]}; {model.metrics_names[1]} of {scores[1]*100}%')\n",
        "  acc_per_fold.append(scores[1] * 100)\n",
        "  loss_per_fold.append(scores[0])\n",
        "\n",
        "  fold_no = fold_no + 1"
      ],
      "execution_count": 34,
      "outputs": [
        {
          "output_type": "stream",
          "name": "stdout",
          "text": [
            "------------------------------------------------------------------------\n",
            "Training for fold 1 ...\n",
            "Epoch 1/10\n",
            "160/160 [==============================] - 5s 28ms/step - loss: 0.5306 - accuracy: 0.8440\n",
            "Epoch 2/10\n",
            "160/160 [==============================] - 5s 28ms/step - loss: 0.4021 - accuracy: 0.8810\n",
            "Epoch 3/10\n",
            "160/160 [==============================] - 5s 28ms/step - loss: 0.3674 - accuracy: 0.8926\n",
            "Epoch 4/10\n",
            "160/160 [==============================] - 4s 28ms/step - loss: 0.3452 - accuracy: 0.9001\n",
            "Epoch 5/10\n",
            "160/160 [==============================] - 4s 28ms/step - loss: 0.3311 - accuracy: 0.9040\n",
            "Epoch 6/10\n",
            "160/160 [==============================] - 4s 28ms/step - loss: 0.3237 - accuracy: 0.9062\n",
            "Epoch 7/10\n",
            "160/160 [==============================] - 4s 27ms/step - loss: 0.3134 - accuracy: 0.9103\n",
            "Epoch 8/10\n",
            "160/160 [==============================] - 4s 27ms/step - loss: 0.3078 - accuracy: 0.9126\n",
            "Epoch 9/10\n",
            "160/160 [==============================] - 4s 28ms/step - loss: 0.3004 - accuracy: 0.9136\n",
            "Epoch 10/10\n",
            "160/160 [==============================] - 4s 28ms/step - loss: 0.2965 - accuracy: 0.9157\n",
            "Score for fold 1: loss of 0.31603050231933594; accuracy of 91.04999899864197%\n",
            "------------------------------------------------------------------------\n",
            "Training for fold 2 ...\n",
            "Epoch 1/10\n",
            "160/160 [==============================] - 5s 27ms/step - loss: 0.5538 - accuracy: 0.8394\n",
            "Epoch 2/10\n",
            "160/160 [==============================] - 4s 28ms/step - loss: 0.3926 - accuracy: 0.8860\n",
            "Epoch 3/10\n",
            "160/160 [==============================] - 4s 28ms/step - loss: 0.3623 - accuracy: 0.8938\n",
            "Epoch 4/10\n",
            "160/160 [==============================] - 4s 28ms/step - loss: 0.3425 - accuracy: 0.9001\n",
            "Epoch 5/10\n",
            "160/160 [==============================] - 5s 28ms/step - loss: 0.3268 - accuracy: 0.9044\n",
            "Epoch 6/10\n",
            "160/160 [==============================] - 4s 28ms/step - loss: 0.3139 - accuracy: 0.9086\n",
            "Epoch 7/10\n",
            "160/160 [==============================] - 4s 28ms/step - loss: 0.3071 - accuracy: 0.9120\n",
            "Epoch 8/10\n",
            "160/160 [==============================] - 4s 28ms/step - loss: 0.3023 - accuracy: 0.9139\n",
            "Epoch 9/10\n",
            "160/160 [==============================] - 5s 28ms/step - loss: 0.2974 - accuracy: 0.9137\n",
            "Epoch 10/10\n",
            "160/160 [==============================] - 5s 28ms/step - loss: 0.2940 - accuracy: 0.9159\n",
            "Score for fold 2: loss of 0.32921895384788513; accuracy of 91.21666550636292%\n",
            "------------------------------------------------------------------------\n",
            "Training for fold 3 ...\n",
            "Epoch 1/10\n",
            "160/160 [==============================] - 6s 28ms/step - loss: 0.5395 - accuracy: 0.8424\n",
            "Epoch 2/10\n",
            "160/160 [==============================] - 4s 28ms/step - loss: 0.3964 - accuracy: 0.8836\n",
            "Epoch 3/10\n",
            "160/160 [==============================] - 4s 28ms/step - loss: 0.3649 - accuracy: 0.8948\n",
            "Epoch 4/10\n",
            "160/160 [==============================] - 4s 28ms/step - loss: 0.3440 - accuracy: 0.9001\n",
            "Epoch 5/10\n",
            "160/160 [==============================] - 4s 27ms/step - loss: 0.3287 - accuracy: 0.9059\n",
            "Epoch 6/10\n",
            "160/160 [==============================] - 5s 29ms/step - loss: 0.3197 - accuracy: 0.9082\n",
            "Epoch 7/10\n",
            "160/160 [==============================] - 4s 28ms/step - loss: 0.3118 - accuracy: 0.9116\n",
            "Epoch 8/10\n",
            "160/160 [==============================] - 5s 28ms/step - loss: 0.3057 - accuracy: 0.9133\n",
            "Epoch 9/10\n",
            "160/160 [==============================] - 4s 28ms/step - loss: 0.2988 - accuracy: 0.9154\n",
            "Epoch 10/10\n",
            "160/160 [==============================] - 4s 28ms/step - loss: 0.2960 - accuracy: 0.9160\n",
            "Score for fold 3: loss of 0.3429185748100281; accuracy of 90.15833139419556%\n",
            "------------------------------------------------------------------------\n",
            "Training for fold 4 ...\n",
            "Epoch 1/10\n",
            "160/160 [==============================] - 5s 29ms/step - loss: 0.5279 - accuracy: 0.8425\n",
            "Epoch 2/10\n",
            "160/160 [==============================] - 5s 29ms/step - loss: 0.3918 - accuracy: 0.8851\n",
            "Epoch 3/10\n",
            "160/160 [==============================] - 5s 28ms/step - loss: 0.3550 - accuracy: 0.8970\n",
            "Epoch 4/10\n",
            "160/160 [==============================] - 5s 29ms/step - loss: 0.3374 - accuracy: 0.9017\n",
            "Epoch 5/10\n",
            "160/160 [==============================] - 5s 29ms/step - loss: 0.3231 - accuracy: 0.9063\n",
            "Epoch 6/10\n",
            "160/160 [==============================] - 5s 29ms/step - loss: 0.3128 - accuracy: 0.9111\n",
            "Epoch 7/10\n",
            "160/160 [==============================] - 4s 28ms/step - loss: 0.3040 - accuracy: 0.9147\n",
            "Epoch 8/10\n",
            "160/160 [==============================] - 4s 28ms/step - loss: 0.2981 - accuracy: 0.9149\n",
            "Epoch 9/10\n",
            "160/160 [==============================] - 5s 28ms/step - loss: 0.2929 - accuracy: 0.9169\n",
            "Epoch 10/10\n",
            "160/160 [==============================] - 4s 28ms/step - loss: 0.2867 - accuracy: 0.9190\n",
            "Score for fold 4: loss of 0.3306466042995453; accuracy of 91.19166731834412%\n",
            "------------------------------------------------------------------------\n",
            "Training for fold 5 ...\n",
            "Epoch 1/10\n",
            "160/160 [==============================] - 5s 28ms/step - loss: 0.5852 - accuracy: 0.8371\n",
            "Epoch 2/10\n",
            "160/160 [==============================] - 5s 28ms/step - loss: 0.4061 - accuracy: 0.8809\n",
            "Epoch 3/10\n",
            "160/160 [==============================] - 5s 29ms/step - loss: 0.3718 - accuracy: 0.8914\n",
            "Epoch 4/10\n",
            "160/160 [==============================] - 5s 30ms/step - loss: 0.3516 - accuracy: 0.8977\n",
            "Epoch 5/10\n",
            "160/160 [==============================] - 5s 32ms/step - loss: 0.3355 - accuracy: 0.9036\n",
            "Epoch 6/10\n",
            "160/160 [==============================] - 5s 29ms/step - loss: 0.3234 - accuracy: 0.9066\n",
            "Epoch 7/10\n",
            "160/160 [==============================] - 5s 29ms/step - loss: 0.3162 - accuracy: 0.9107\n",
            "Epoch 8/10\n",
            "160/160 [==============================] - 5s 29ms/step - loss: 0.3118 - accuracy: 0.9118\n",
            "Epoch 9/10\n",
            "160/160 [==============================] - 5s 29ms/step - loss: 0.3055 - accuracy: 0.9133\n",
            "Epoch 10/10\n",
            "160/160 [==============================] - 4s 28ms/step - loss: 0.2982 - accuracy: 0.9147\n",
            "Score for fold 5: loss of 0.28773701190948486; accuracy of 92.07500219345093%\n"
          ]
        }
      ]
    },
    {
      "cell_type": "markdown",
      "metadata": {
        "id": "Cmnwq7iGmwa5"
      },
      "source": [
        "**2 camadas densas uma com 256 unidades e outra com 128 unidades**"
      ]
    },
    {
      "cell_type": "code",
      "metadata": {
        "id": "YrkRArgHnDx8"
      },
      "source": [
        "acc_per_fold = []\n",
        "loss_per_fold = []\n",
        "kfold = KFold(n_splits=5)"
      ],
      "execution_count": 35,
      "outputs": []
    },
    {
      "cell_type": "code",
      "metadata": {
        "colab": {
          "base_uri": "https://localhost:8080/"
        },
        "id": "4E2JB7ofnDx-",
        "outputId": "73407100-232d-4836-ce0b-b3edb562dee4"
      },
      "source": [
        "fold_no = 1\n",
        "for train, test in kfold.split(inputs, targets):\n",
        "\n",
        "  model = keras.Sequential([\n",
        "        layers.Dense(256, activation=\"linear\"),\n",
        "        layers.Dense(256, activation=\"linear\"),\n",
        "        layers.Dense(128, activation=\"linear\"),\n",
        "        layers.Dense(10, activation=\"softmax\")\n",
        "  ])\n",
        "\n",
        "  model.compile(optimizer=\"rmsprop\",\n",
        "                loss=\"sparse_categorical_crossentropy\",\n",
        "                metrics=[\"accuracy\"])\n",
        "\n",
        "  print('------------------------------------------------------------------------')\n",
        "  print(f'Training for fold {fold_no} ...')\n",
        "\n",
        "  history = model.fit(inputs[train], targets[train],\n",
        "              batch_size=300,\n",
        "              epochs=10)\n",
        "  \n",
        "\n",
        "  scores = model.evaluate(inputs[test], targets[test], verbose=0)\n",
        "  print(f'Score for fold {fold_no}: {model.metrics_names[0]} of {scores[0]}; {model.metrics_names[1]} of {scores[1]*100}%')\n",
        "  acc_per_fold.append(scores[1] * 100)\n",
        "  loss_per_fold.append(scores[0])\n",
        "\n",
        "  fold_no = fold_no + 1"
      ],
      "execution_count": 36,
      "outputs": [
        {
          "output_type": "stream",
          "name": "stdout",
          "text": [
            "------------------------------------------------------------------------\n",
            "Training for fold 1 ...\n",
            "Epoch 1/10\n",
            "160/160 [==============================] - 3s 14ms/step - loss: 0.4852 - accuracy: 0.8547\n",
            "Epoch 2/10\n",
            "160/160 [==============================] - 2s 14ms/step - loss: 0.3596 - accuracy: 0.8943\n",
            "Epoch 3/10\n",
            "160/160 [==============================] - 2s 14ms/step - loss: 0.3391 - accuracy: 0.9023\n",
            "Epoch 4/10\n",
            "160/160 [==============================] - 2s 14ms/step - loss: 0.3269 - accuracy: 0.9051\n",
            "Epoch 5/10\n",
            "160/160 [==============================] - 2s 14ms/step - loss: 0.3179 - accuracy: 0.9087\n",
            "Epoch 6/10\n",
            "160/160 [==============================] - 2s 14ms/step - loss: 0.3087 - accuracy: 0.9107\n",
            "Epoch 7/10\n",
            "160/160 [==============================] - 2s 14ms/step - loss: 0.3026 - accuracy: 0.9126\n",
            "Epoch 8/10\n",
            "160/160 [==============================] - 2s 14ms/step - loss: 0.2982 - accuracy: 0.9146\n",
            "Epoch 9/10\n",
            "160/160 [==============================] - 2s 13ms/step - loss: 0.2948 - accuracy: 0.9158\n",
            "Epoch 10/10\n",
            "160/160 [==============================] - 2s 14ms/step - loss: 0.2901 - accuracy: 0.9174\n",
            "Score for fold 1: loss of 0.2849912941455841; accuracy of 92.00000166893005%\n",
            "------------------------------------------------------------------------\n",
            "Training for fold 2 ...\n",
            "Epoch 1/10\n",
            "160/160 [==============================] - 3s 14ms/step - loss: 0.4763 - accuracy: 0.8579\n",
            "Epoch 2/10\n",
            "160/160 [==============================] - 2s 14ms/step - loss: 0.3539 - accuracy: 0.8983\n",
            "Epoch 3/10\n",
            "160/160 [==============================] - 2s 14ms/step - loss: 0.3348 - accuracy: 0.9029\n",
            "Epoch 4/10\n",
            "160/160 [==============================] - 2s 14ms/step - loss: 0.3204 - accuracy: 0.9069\n",
            "Epoch 5/10\n",
            "160/160 [==============================] - 2s 14ms/step - loss: 0.3097 - accuracy: 0.9102\n",
            "Epoch 6/10\n",
            "160/160 [==============================] - 2s 14ms/step - loss: 0.3052 - accuracy: 0.9103\n",
            "Epoch 7/10\n",
            "160/160 [==============================] - 2s 14ms/step - loss: 0.2959 - accuracy: 0.9157\n",
            "Epoch 8/10\n",
            "160/160 [==============================] - 2s 14ms/step - loss: 0.2922 - accuracy: 0.9158\n",
            "Epoch 9/10\n",
            "160/160 [==============================] - 2s 14ms/step - loss: 0.2883 - accuracy: 0.9168\n",
            "Epoch 10/10\n",
            "160/160 [==============================] - 2s 14ms/step - loss: 0.2832 - accuracy: 0.9191\n",
            "Score for fold 2: loss of 0.3517643213272095; accuracy of 90.48333168029785%\n",
            "------------------------------------------------------------------------\n",
            "Training for fold 3 ...\n",
            "Epoch 1/10\n",
            "160/160 [==============================] - 3s 14ms/step - loss: 0.4922 - accuracy: 0.8567\n",
            "Epoch 2/10\n",
            "160/160 [==============================] - 2s 14ms/step - loss: 0.3572 - accuracy: 0.8969\n",
            "Epoch 3/10\n",
            "160/160 [==============================] - 2s 14ms/step - loss: 0.3354 - accuracy: 0.9024\n",
            "Epoch 4/10\n",
            "160/160 [==============================] - 2s 14ms/step - loss: 0.3224 - accuracy: 0.9075\n",
            "Epoch 5/10\n",
            "160/160 [==============================] - 2s 14ms/step - loss: 0.3137 - accuracy: 0.9104\n",
            "Epoch 6/10\n",
            "160/160 [==============================] - 2s 14ms/step - loss: 0.3052 - accuracy: 0.9137\n",
            "Epoch 7/10\n",
            "160/160 [==============================] - 2s 14ms/step - loss: 0.2995 - accuracy: 0.9168\n",
            "Epoch 8/10\n",
            "160/160 [==============================] - 2s 14ms/step - loss: 0.2965 - accuracy: 0.9157\n",
            "Epoch 9/10\n",
            "160/160 [==============================] - 2s 15ms/step - loss: 0.2892 - accuracy: 0.9184\n",
            "Epoch 10/10\n",
            "160/160 [==============================] - 2s 14ms/step - loss: 0.2853 - accuracy: 0.9191\n",
            "Score for fold 3: loss of 0.3207944929599762; accuracy of 90.9833312034607%\n",
            "------------------------------------------------------------------------\n",
            "Training for fold 4 ...\n",
            "Epoch 1/10\n",
            "160/160 [==============================] - 3s 14ms/step - loss: 0.4691 - accuracy: 0.8580\n",
            "Epoch 2/10\n",
            "160/160 [==============================] - 2s 14ms/step - loss: 0.3487 - accuracy: 0.8989\n",
            "Epoch 3/10\n",
            "160/160 [==============================] - 2s 14ms/step - loss: 0.3266 - accuracy: 0.9067\n",
            "Epoch 4/10\n",
            "160/160 [==============================] - 2s 14ms/step - loss: 0.3153 - accuracy: 0.9092\n",
            "Epoch 5/10\n",
            "160/160 [==============================] - 2s 15ms/step - loss: 0.3065 - accuracy: 0.9135\n",
            "Epoch 6/10\n",
            "160/160 [==============================] - 2s 15ms/step - loss: 0.3002 - accuracy: 0.9141\n",
            "Epoch 7/10\n",
            "160/160 [==============================] - 2s 14ms/step - loss: 0.2941 - accuracy: 0.9173\n",
            "Epoch 8/10\n",
            "160/160 [==============================] - 2s 14ms/step - loss: 0.2867 - accuracy: 0.9186\n",
            "Epoch 9/10\n",
            "160/160 [==============================] - 2s 15ms/step - loss: 0.2840 - accuracy: 0.9204\n",
            "Epoch 10/10\n",
            "160/160 [==============================] - 2s 15ms/step - loss: 0.2808 - accuracy: 0.9187\n",
            "Score for fold 4: loss of 0.33326154947280884; accuracy of 90.9916639328003%\n",
            "------------------------------------------------------------------------\n",
            "Training for fold 5 ...\n",
            "Epoch 1/10\n",
            "160/160 [==============================] - 3s 16ms/step - loss: 0.4914 - accuracy: 0.8536\n",
            "Epoch 2/10\n",
            "160/160 [==============================] - 2s 15ms/step - loss: 0.3628 - accuracy: 0.8940\n",
            "Epoch 3/10\n",
            "160/160 [==============================] - 2s 14ms/step - loss: 0.3425 - accuracy: 0.9000\n",
            "Epoch 4/10\n",
            "160/160 [==============================] - 2s 15ms/step - loss: 0.3267 - accuracy: 0.9058\n",
            "Epoch 5/10\n",
            "160/160 [==============================] - 2s 14ms/step - loss: 0.3159 - accuracy: 0.9087\n",
            "Epoch 6/10\n",
            "160/160 [==============================] - 2s 15ms/step - loss: 0.3106 - accuracy: 0.9107\n",
            "Epoch 7/10\n",
            "160/160 [==============================] - 2s 15ms/step - loss: 0.3065 - accuracy: 0.9122\n",
            "Epoch 8/10\n",
            "160/160 [==============================] - 2s 14ms/step - loss: 0.3009 - accuracy: 0.9146\n",
            "Epoch 9/10\n",
            "160/160 [==============================] - 2s 14ms/step - loss: 0.2955 - accuracy: 0.9158\n",
            "Epoch 10/10\n",
            "160/160 [==============================] - 2s 15ms/step - loss: 0.2921 - accuracy: 0.9172\n",
            "Score for fold 5: loss of 0.28338906168937683; accuracy of 92.5249993801117%\n"
          ]
        }
      ]
    }
  ]
}